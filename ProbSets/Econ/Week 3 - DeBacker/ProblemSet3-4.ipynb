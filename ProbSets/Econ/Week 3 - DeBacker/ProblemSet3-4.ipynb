{
 "cells": [
  {
   "cell_type": "code",
   "execution_count": 1,
   "metadata": {
    "collapsed": true
   },
   "outputs": [],
   "source": [
    "import matplotlib.pyplot as plt\n",
    "import numpy as np\n",
    "from numba import jit, jitclass\n",
    "import scipy.integrate as integrate\n",
    "from scipy.stats import norm\n",
    "import time\n",
    "from mpl_toolkits.mplot3d import Axes3D\n",
    "from matplotlib import cm\n",
    "from scipy import optimize as opt\n",
    "from firms import firm\n",
    "from firms import find_vmat_fn\n",
    "from firms import find_valuefunc_fn"
   ]
  },
  {
   "cell_type": "markdown",
   "metadata": {},
   "source": [
    "The code for this problem is written entirely in the file \"firms.py\", included in this same directory. Below, the important functions are called to test the output. To see the code, view the contents of \"firms.py\", in which the problem is built into a class."
   ]
  },
  {
   "cell_type": "code",
   "execution_count": 2,
   "metadata": {},
   "outputs": [
    {
     "name": "stdout",
     "output_type": "stream",
     "text": [
      "0.9007923362843198\n"
     ]
    }
   ],
   "source": [
    "t = firm()\n",
    "wbar = opt.brentq(t.run_test,0.9,0.91)\n",
    "print(wbar)"
   ]
  },
  {
   "cell_type": "code",
   "execution_count": 3,
   "metadata": {},
   "outputs": [
    {
     "data": {
      "text/plain": [
       "0.095722962400526246"
      ]
     },
     "execution_count": 3,
     "metadata": {},
     "output_type": "execute_result"
    }
   ],
   "source": [
    "t.run_test(wbar)"
   ]
  },
  {
   "cell_type": "markdown",
   "metadata": {},
   "source": [
    "The function run_test is returning the difference between aggregate supply and aggregate demand of labor. Although the solution is not identically zero, due to the high conditioning number of the problem, it is very close to the true value in terms of machine precision."
   ]
  }
 ],
 "metadata": {
  "kernelspec": {
   "display_name": "Python 3",
   "language": "python",
   "name": "python3"
  },
  "language_info": {
   "codemirror_mode": {
    "name": "ipython",
    "version": 3
   },
   "file_extension": ".py",
   "mimetype": "text/x-python",
   "name": "python",
   "nbconvert_exporter": "python",
   "pygments_lexer": "ipython3",
   "version": "3.6.1"
  }
 },
 "nbformat": 4,
 "nbformat_minor": 2
}
