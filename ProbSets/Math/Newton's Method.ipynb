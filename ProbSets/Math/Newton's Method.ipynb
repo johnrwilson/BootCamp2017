{
 "cells": [
  {
   "cell_type": "code",
   "execution_count": 1,
   "metadata": {
    "collapsed": true
   },
   "outputs": [],
   "source": [
    "def Newtons_method(Df, x0, D2f, iters=30, tol=1e-5):\n",
    "    \"\"\"Use Newton's method to approximate the minimizer of a function.\n",
    "\n",
    "    Inputs:\n",
    "        Df (function): A function handle. Should represent the derivative \n",
    "            of a function f from R to R.\n",
    "        x0 (float): Initial guess.\n",
    "        D2f (function): A function handle. Should represent the second derivative\n",
    "             of f.\n",
    "        iters (int): Maximum number of iterations before the function\n",
    "            returns. Defaults to 30.\n",
    "        tol (float): The function returns when the difference between\n",
    "            successive approximations is less than |xk|*tol.\n",
    "\n",
    "    Returns:\n",
    "        A tuple (x, converged, numiters) with\n",
    "            x (float): the approximation for a minimizer of f.\n",
    "            converged (bool): a Boolean telling whether Newton's method\n",
    "                converged.\n",
    "            numiters (int): the number of iterations computed.\n",
    "    \"\"\"\n",
    "    xold = x0+2\n",
    "    xnew = x0\n",
    "    n = 0\n",
    "    while n < iters and abs(xnew - xold) > abs(xold)*tol:\n",
    "        xold = xnew\n",
    "        xnew = xold - Df(xold)/D2f(xold)\n",
    "        n += 1\n",
    "    if n >= iters and abs(xnew - xold) > abs(xold)*tol:\n",
    "        raise ValueError(\"Does not converge\")\n",
    "    else:\n",
    "        return xnew"
   ]
  },
  {
   "cell_type": "markdown",
   "metadata": {},
   "source": [
    "Test case number one: $f(x) = x^4-x^2+x$. Newton's method should converge."
   ]
  },
  {
   "cell_type": "code",
   "execution_count": 2,
   "metadata": {},
   "outputs": [
    {
     "data": {
      "text/plain": [
       "-0.8846461771256705"
      ]
     },
     "execution_count": 2,
     "metadata": {},
     "output_type": "execute_result"
    }
   ],
   "source": [
    "Df = lambda x: 4*x**3 - 2*x + 1\n",
    "D2f = lambda x: 12*x**2 - 2\n",
    "Newtons_method(Df,1.,D2f,iters = 100)"
   ]
  },
  {
   "cell_type": "markdown",
   "metadata": {},
   "source": [
    "It worked! Test case number two: $f(x) = x^3$. Newton's method should not converge because the function has no local minima."
   ]
  },
  {
   "cell_type": "code",
   "execution_count": 3,
   "metadata": {},
   "outputs": [
    {
     "ename": "ValueError",
     "evalue": "Does not converge",
     "output_type": "error",
     "traceback": [
      "\u001b[1;31m---------------------------------------------------------------------------\u001b[0m",
      "\u001b[1;31mValueError\u001b[0m                                Traceback (most recent call last)",
      "\u001b[1;32m<ipython-input-3-72ed41d1eb01>\u001b[0m in \u001b[0;36m<module>\u001b[1;34m()\u001b[0m\n\u001b[0;32m      1\u001b[0m \u001b[0mDf\u001b[0m \u001b[1;33m=\u001b[0m \u001b[1;32mlambda\u001b[0m \u001b[0mx\u001b[0m\u001b[1;33m:\u001b[0m \u001b[1;36m3.\u001b[0m\u001b[1;33m*\u001b[0m\u001b[0mx\u001b[0m\u001b[1;33m**\u001b[0m\u001b[1;36m2\u001b[0m\u001b[1;33m\u001b[0m\u001b[0m\n\u001b[0;32m      2\u001b[0m \u001b[0mD2f\u001b[0m \u001b[1;33m=\u001b[0m \u001b[1;32mlambda\u001b[0m \u001b[0mx\u001b[0m\u001b[1;33m:\u001b[0m \u001b[1;36m6.\u001b[0m\u001b[1;33m*\u001b[0m\u001b[0mx\u001b[0m\u001b[1;33m\u001b[0m\u001b[0m\n\u001b[1;32m----> 3\u001b[1;33m \u001b[0mNewtons_method\u001b[0m\u001b[1;33m(\u001b[0m\u001b[0mDf\u001b[0m\u001b[1;33m,\u001b[0m\u001b[1;36m1.\u001b[0m\u001b[1;33m,\u001b[0m\u001b[0mD2f\u001b[0m\u001b[1;33m,\u001b[0m\u001b[0miters\u001b[0m \u001b[1;33m=\u001b[0m \u001b[1;36m100\u001b[0m\u001b[1;33m)\u001b[0m\u001b[1;33m\u001b[0m\u001b[0m\n\u001b[0m",
      "\u001b[1;32m<ipython-input-1-5e5a33d6f7ab>\u001b[0m in \u001b[0;36mNewtons_method\u001b[1;34m(Df, x0, D2f, iters, tol)\u001b[0m\n\u001b[0;32m     28\u001b[0m         \u001b[0mn\u001b[0m \u001b[1;33m+=\u001b[0m \u001b[1;36m1\u001b[0m\u001b[1;33m\u001b[0m\u001b[0m\n\u001b[0;32m     29\u001b[0m     \u001b[1;32mif\u001b[0m \u001b[0mn\u001b[0m \u001b[1;33m>=\u001b[0m \u001b[0miters\u001b[0m \u001b[1;32mand\u001b[0m \u001b[0mabs\u001b[0m\u001b[1;33m(\u001b[0m\u001b[0mxnew\u001b[0m \u001b[1;33m-\u001b[0m \u001b[0mxold\u001b[0m\u001b[1;33m)\u001b[0m \u001b[1;33m>\u001b[0m \u001b[0mabs\u001b[0m\u001b[1;33m(\u001b[0m\u001b[0mxold\u001b[0m\u001b[1;33m)\u001b[0m\u001b[1;33m*\u001b[0m\u001b[0mtol\u001b[0m\u001b[1;33m:\u001b[0m\u001b[1;33m\u001b[0m\u001b[0m\n\u001b[1;32m---> 30\u001b[1;33m         \u001b[1;32mraise\u001b[0m \u001b[0mValueError\u001b[0m\u001b[1;33m(\u001b[0m\u001b[1;34m\"Does not converge\"\u001b[0m\u001b[1;33m)\u001b[0m\u001b[1;33m\u001b[0m\u001b[0m\n\u001b[0m\u001b[0;32m     31\u001b[0m     \u001b[1;32melse\u001b[0m\u001b[1;33m:\u001b[0m\u001b[1;33m\u001b[0m\u001b[0m\n\u001b[0;32m     32\u001b[0m         \u001b[1;32mreturn\u001b[0m \u001b[0mxnew\u001b[0m\u001b[1;33m\u001b[0m\u001b[0m\n",
      "\u001b[1;31mValueError\u001b[0m: Does not converge"
     ]
    }
   ],
   "source": [
    "Df = lambda x: 3.*x**2\n",
    "D2f = lambda x: 6.*x\n",
    "Newtons_method(Df,1.,D2f,iters = 100)"
   ]
  }
 ],
 "metadata": {
  "kernelspec": {
   "display_name": "Python 3",
   "language": "python",
   "name": "python3"
  },
  "language_info": {
   "codemirror_mode": {
    "name": "ipython",
    "version": 3
   },
   "file_extension": ".py",
   "mimetype": "text/x-python",
   "name": "python",
   "nbconvert_exporter": "python",
   "pygments_lexer": "ipython3",
   "version": "3.6.1"
  }
 },
 "nbformat": 4,
 "nbformat_minor": 2
}
