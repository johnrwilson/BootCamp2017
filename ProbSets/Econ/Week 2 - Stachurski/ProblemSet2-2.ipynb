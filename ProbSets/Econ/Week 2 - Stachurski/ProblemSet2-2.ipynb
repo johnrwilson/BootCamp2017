{
 "cells": [
  {
   "cell_type": "markdown",
   "metadata": {},
   "source": [
    "# Problem Set 2.2\n",
    "\n",
    "## John Wilson"
   ]
  },
  {
   "cell_type": "markdown",
   "metadata": {},
   "source": [
    "### Problem 1"
   ]
  },
  {
   "cell_type": "markdown",
   "metadata": {},
   "source": [
    "We show that *U* is a contraction mapping over the set $\\mathcal{C}$. Take $\\sigma$ and y as given. For any two functions $w, w' \\in \\mathcal{C}$, we have:\n",
    "$$\n",
    "\\left| Uw(y) - Uw'(y) \\right| = \\\\ \\left| u(\\sigma (y)) + \\beta \\int w(f(y-\\sigma (y))z)\\phi (dz) - u(\\sigma (y)) - \\beta \\int w'(f(y-\\sigma (y))z)\\phi (dz)\\right| = \\\\ \\beta \\left| \\int (w(f(y-\\sigma (y))z)-w'(f(y-\\sigma (y))z))\\phi (dz) \\right| \\leq \\\\ \\beta \\int \\left| w(f(y-\\sigma (y))z)-w'(f(y-\\sigma (y))z) \\right| \\phi (dz) \\leq \\\\ \\beta \\|w-w'\\|_{sup} \\int \\phi dz = \\beta \\rho (w-w')\n",
    "$$\n",
    "Taking the supremum of the initial absolute value preserves the inequality relations and shows that $\\rho (Uw(y),Uw'(y)) \\leq \\beta \\rho(w,w')$. Since $\\beta < 1$, this proves that *U* is a contraction mapping. Since $\\mathcal{C}$ is complete with respect to the sup distance metric, *U* has a unique fixed point in $\\mathcal{C}$.\n",
    "\n",
    "To show that this unique fixed point is equal to $\\mathcal{v}_{\\sigma}$, observe first the definition of a fixed point. We have $$Uw^*(y)=w^*(y)=u(\\sigma (y)) + \\beta \\int w^*(f(y-\\sigma (y))z)\\phi(dz)$$ This function is equal to the utility you get from immediate consumption plus the discounted expected utility you will get from all future consumption, all given the policy $\\sigma (y)$. This is equivalent to the definition of the policy value function $v_{\\sigma}$, defined as $$v_{\\sigma}(y) = \\mathbf{E} \\left[ \\sum_{t=0}^{\\infty} \\beta^tu(\\sigma (y_t)) \\right] $$\n",
    "which is to say the expected utility of this period plus the discounted utility of all future consumption."
   ]
  },
  {
   "cell_type": "markdown",
   "metadata": {},
   "source": [
    "### Problem 2"
   ]
  },
  {
   "cell_type": "markdown",
   "metadata": {},
   "source": [
    "Code below is a small alteration of the code provided at https://lectures.quantecon.org/py/optgrowth.html.\n",
    "\n",
    "We alter the code to calculate the policy value function given that $\\sigma (y) =0.95y$."
   ]
  },
  {
   "cell_type": "code",
   "execution_count": 1,
   "metadata": {
    "collapsed": true
   },
   "outputs": [],
   "source": [
    "import numpy as np\n",
    "import matplotlib.pyplot as plt\n",
    "import quantecon as qe\n",
    "from scipy.stats import lognorm\n",
    "from scipy.optimize import fminbound"
   ]
  },
  {
   "cell_type": "code",
   "execution_count": 2,
   "metadata": {
    "collapsed": true
   },
   "outputs": [],
   "source": [
    "def bellman_operator(w, grid, beta, u, f, shocks, Tw=None, compute_policy=0):\n",
    "    \"\"\"\n",
    "    The approximate Bellman operator, which computes and returns the\n",
    "    updated value function Tw on the grid points.  An array to store\n",
    "    the new set of values Tw is optionally supplied (to avoid having to\n",
    "    allocate new arrays at each iteration).  If supplied, any existing data in \n",
    "    Tw will be overwritten.\n",
    "\n",
    "    Parameters\n",
    "    ----------\n",
    "    w : array_like(float, ndim=1)\n",
    "        The value of the input function on different grid points\n",
    "    grid : array_like(float, ndim=1)\n",
    "        The set of grid points\n",
    "    beta : scalar\n",
    "        The discount factor\n",
    "    u : function\n",
    "        The utility function\n",
    "    f : function\n",
    "        The production function\n",
    "    shocks : numpy array\n",
    "        An array of draws from the shock, for Monte Carlo integration (to\n",
    "        compute expectations).\n",
    "    Tw : array_like(float, ndim=1) optional (default=None)\n",
    "        Array to write output values to\n",
    "    compute_policy : Boolean, optional (default=False)\n",
    "        Whether or not to compute policy function\n",
    "\n",
    "    \"\"\"\n",
    "    # === Apply linear interpolation to w === #\n",
    "    w_func = lambda x: np.interp(x, grid, w)\n",
    "\n",
    "    # == Initialize Tw if necessary == #\n",
    "    if Tw is None:\n",
    "        Tw = np.empty_like(w)\n",
    "\n",
    "    if compute_policy:\n",
    "        sigma = np.empty_like(w)\n",
    "\n",
    "    # == set Tw[i] = max_c { u(c) + beta E w(f(y  - c) z)} == #\n",
    "    for i, y in enumerate(grid):\n",
    "        def objective(c):\n",
    "            return - u(c) - beta * np.mean(w_func(f(y - c) * shocks))\n",
    "        c_star = 0.95*y   #we are provided an optimal c given y\n",
    "        if compute_policy:\n",
    "            sigma[i] = c_star\n",
    "        Tw[i] = - objective(c_star)\n",
    "\n",
    "    if compute_policy:\n",
    "        return Tw, sigma\n",
    "    else:\n",
    "        return Tw"
   ]
  },
  {
   "cell_type": "code",
   "execution_count": 3,
   "metadata": {
    "collapsed": true
   },
   "outputs": [],
   "source": [
    "class LogLinearOG:\n",
    "    \"\"\"\n",
    "    Log linear optimal growth model, with log utility, CD production and\n",
    "    multiplicative lognormal shock, so that\n",
    "\n",
    "        y = f(k, z) = z k^alpha\n",
    "\n",
    "    with z ~ LN(mu, s).\n",
    "\n",
    "    The class holds parameters and true value and policy functions.\n",
    "    \"\"\"\n",
    "\n",
    "    def __init__(self, alpha=0.4, beta=0.96, mu=0, s=0.1):\n",
    "\n",
    "        self.alpha, self.beta, self.mu, self.s = alpha, beta, mu, s \n",
    "\n",
    "        # == Some useful constants == #\n",
    "        self.ab = alpha * beta\n",
    "        self.c1 = np.log(1 - self.ab) / (1 - beta)\n",
    "        self.c2 = (mu + alpha * np.log(self.ab)) / (1 - alpha)\n",
    "        self.c3 = 1 / (1 - beta)\n",
    "        self.c4 = 1 / (1 - self.ab)\n",
    "\n",
    "    def u(self, c):\n",
    "        \" Utility \"\n",
    "        return np.log(c)\n",
    "\n",
    "    def u_prime(self, c):\n",
    "        return 1 / c\n",
    "\n",
    "    def f(self, k):\n",
    "        \" Deterministic part of production function.  \"\n",
    "        return k**self.alpha\n",
    "\n",
    "    def f_prime(self, k):\n",
    "        return self.alpha * k**(self.alpha - 1)\n",
    "\n",
    "    def c_star(self, y):\n",
    "        \" True optimal policy.  \"\n",
    "        return (1 - self.alpha * self.beta) * y\n",
    "\n",
    "    def v_star(self, y):\n",
    "        \" True value function. \"\n",
    "        return self.c1 + self.c2 * (self.c3 - self.c4) + self.c4 * np.log(y)"
   ]
  },
  {
   "cell_type": "code",
   "execution_count": 4,
   "metadata": {
    "collapsed": true
   },
   "outputs": [],
   "source": [
    "lg = LogLinearOG()\n",
    "# == Unpack parameters / functions for convenience == #\n",
    "alpha, beta, mu, s = lg.alpha, lg.beta, lg.mu, lg.s\n",
    "v_star = lg.v_star"
   ]
  },
  {
   "cell_type": "code",
   "execution_count": 5,
   "metadata": {
    "collapsed": true
   },
   "outputs": [],
   "source": [
    "grid_max = 4         # Largest grid point\n",
    "grid_size = 200      # Number of grid points\n",
    "shock_size = 250     # Number of shock draws in Monte Carlo integral\n",
    "\n",
    "grid = np.linspace(1e-5, grid_max, grid_size)\n",
    "shocks = np.exp(mu + s * np.random.randn(shock_size))"
   ]
  },
  {
   "cell_type": "markdown",
   "metadata": {},
   "source": [
    "Having set up the background work for the model, fixed points of *U* are calculated for a range of values of y."
   ]
  },
  {
   "cell_type": "code",
   "execution_count": 6,
   "metadata": {},
   "outputs": [
    {
     "name": "stdout",
     "output_type": "stream",
     "text": [
      "Iteration    Distance       Elapsed (seconds)\n",
      "---------------------------------------------\n",
      "10           1.282e+00      5.204e-02         \n",
      "20           7.812e-01      9.907e-02         \n",
      "30           5.100e-01      1.446e-01         \n",
      "40           3.378e-01      1.907e-01         \n",
      "50           2.244e-01      2.492e-01         \n",
      "60           1.492e-01      2.952e-01         \n",
      "70           9.919e-02      3.413e-01         \n",
      "80           6.594e-02      3.868e-01         \n",
      "90           4.384e-02      4.318e-01         \n",
      "100          2.915e-02      4.828e-01         \n",
      "110          1.938e-02      5.309e-01         \n",
      "120          1.288e-02      5.764e-01         \n",
      "130          8.565e-03      6.220e-01         \n",
      "140          5.694e-03      6.700e-01         \n",
      "150          3.786e-03      7.245e-01         \n",
      "160          2.517e-03      7.705e-01         \n",
      "170          1.673e-03      8.156e-01         \n",
      "180          1.112e-03      8.606e-01         \n",
      "190          7.396e-04      9.051e-01         \n",
      "200          4.917e-04      9.602e-01         \n",
      "210          3.269e-04      1.008e+00         \n",
      "220          2.173e-04      1.054e+00         \n",
      "230          1.445e-04      1.099e+00         \n",
      "240          9.607e-05      1.143e+00         \n",
      "250          6.387e-05      1.198e+00         \n",
      "260          4.246e-05      1.244e+00         \n",
      "270          2.823e-05      1.289e+00         \n",
      "280          1.877e-05      1.334e+00         \n",
      "290          1.248e-05      1.380e+00         \n",
      "296          9.767e-06      1.409e+00         \n",
      "Converged in 296 steps\n"
     ]
    }
   ],
   "source": [
    "from quantecon import compute_fixed_point\n",
    "\n",
    "Tw = np.empty(len(grid))\n",
    "initial_w = 5 * np.log(grid)\n",
    "\n",
    "# Turn the Bellman operator into a function of one variable\n",
    "T = lambda w: bellman_operator(w,\n",
    "                               grid,\n",
    "                               beta,\n",
    "                               np.log,\n",
    "                               lambda k: k**alpha,\n",
    "                               shocks,\n",
    "                               compute_policy=False)\n",
    "\n",
    "v_star_approx = compute_fixed_point(T, initial_w,\n",
    "                                    error_tol=1e-5,  # error_tol\n",
    "                                    max_iter=500,   # max_iter\n",
    "                                    verbose=2,  # verbose\n",
    "                                    print_skip=10,     # print_skip\n",
    "                                    method='iteration')"
   ]
  },
  {
   "cell_type": "code",
   "execution_count": 7,
   "metadata": {},
   "outputs": [
    {
     "data": {
      "image/png": "[encoded data removed]",
      "text/plain": [
       "<matplotlib.figure.Figure at 0x1df1bfafac8>"
      ]
     },
     "metadata": {},
     "output_type": "display_data"
    }
   ],
   "source": [
    "fig, ax = plt.subplots(figsize=(9, 5))\n",
    "ax.set_ylim(-70, -24)\n",
    "ax.plot(grid, v_star_approx, lw=2, alpha=0.6, label='approximate value function')\n",
    "ax.plot(grid, v_star(grid), lw=2, alpha=0.6, label='true value function')\n",
    "ax.legend(loc='lower right')\n",
    "plt.show()"
   ]
  },
  {
   "cell_type": "markdown",
   "metadata": {},
   "source": [
    "Given the log utility model, which can be solved analytically, the yellow line shows the true value function, meaning the value function for the best policy $\\sigma (y)$ to maximize utility. Since we were given an alternate $\\sigma$ function, we can see that the calculated value function is much lower than the desired value function. We now proceed to redo the process with $\\sigma (y) = H(y)y$, where *H* is the cdf of the lognormal *LN(0,0.5)* distribution."
   ]
  },
  {
   "cell_type": "code",
   "execution_count": 8,
   "metadata": {
    "collapsed": true
   },
   "outputs": [],
   "source": [
    "def bellman_operator(w, grid, beta, u, f, shocks, Tw=None, compute_policy=0):\n",
    "    \"\"\"\n",
    "    The approximate Bellman operator, which computes and returns the\n",
    "    updated value function Tw on the grid points.  An array to store\n",
    "    the new set of values Tw is optionally supplied (to avoid having to\n",
    "    allocate new arrays at each iteration).  If supplied, any existing data in \n",
    "    Tw will be overwritten.\n",
    "\n",
    "    Parameters\n",
    "    ----------\n",
    "    w : array_like(float, ndim=1)\n",
    "        The value of the input function on different grid points\n",
    "    grid : array_like(float, ndim=1)\n",
    "        The set of grid points\n",
    "    beta : scalar\n",
    "        The discount factor\n",
    "    u : function\n",
    "        The utility function\n",
    "    f : function\n",
    "        The production function\n",
    "    shocks : numpy array\n",
    "        An array of draws from the shock, for Monte Carlo integration (to\n",
    "        compute expectations).\n",
    "    Tw : array_like(float, ndim=1) optional (default=None)\n",
    "        Array to write output values to\n",
    "    compute_policy : Boolean, optional (default=False)\n",
    "        Whether or not to compute policy function\n",
    "\n",
    "    \"\"\"\n",
    "    # === Apply linear interpolation to w === #\n",
    "    w_func = lambda x: np.interp(x, grid, w)\n",
    "\n",
    "    # == Initialize Tw if necessary == #\n",
    "    if Tw is None:\n",
    "        Tw = np.empty_like(w)\n",
    "\n",
    "    if compute_policy:\n",
    "        sigma = np.empty_like(w)\n",
    "\n",
    "    # == set Tw[i] = max_c { u(c) + beta E w(f(y  - c) z)} == #\n",
    "    for i, y in enumerate(grid):\n",
    "        def objective(c):\n",
    "            return - u(c) - beta * np.mean(w_func(f(y - c) * shocks))\n",
    "        c_star = lognorm.cdf(y, 0.5)*y   #fminbound(objective, 1e-10, y)\n",
    "        if compute_policy:\n",
    "            sigma[i] = c_star\n",
    "        Tw[i] = - objective(c_star)\n",
    "\n",
    "    if compute_policy:\n",
    "        return Tw, sigma\n",
    "    else:\n",
    "        return Tw"
   ]
  },
  {
   "cell_type": "code",
   "execution_count": 9,
   "metadata": {},
   "outputs": [
    {
     "name": "stdout",
     "output_type": "stream",
     "text": [
      "Iteration    Distance       Elapsed (seconds)\n",
      "---------------------------------------------\n",
      "10           1.387e+00      2.847e-01         \n",
      "20           6.516e-01      5.313e-01         \n",
      "30           4.330e-01      7.760e-01         \n",
      "40           2.879e-01      1.020e+00         \n",
      "50           1.914e-01      1.264e+00         \n",
      "60           1.272e-01      1.508e+00         \n",
      "70           8.459e-02      1.752e+00         \n",
      "80           5.624e-02      1.998e+00         \n",
      "90           3.739e-02      2.243e+00         \n",
      "100          2.486e-02      2.486e+00         \n",
      "110          1.653e-02      2.728e+00         \n",
      "120          1.099e-02      2.972e+00         \n",
      "130          7.305e-03      3.220e+00         \n",
      "140          4.856e-03      3.466e+00         \n",
      "150          3.229e-03      3.717e+00         \n",
      "160          2.147e-03      3.958e+00         \n",
      "170          1.427e-03      4.202e+00         \n",
      "180          9.488e-04      4.452e+00         \n",
      "190          6.308e-04      4.696e+00         \n",
      "200          4.194e-04      4.944e+00         \n",
      "210          2.788e-04      5.183e+00         \n",
      "220          1.854e-04      5.425e+00         \n",
      "230          1.232e-04      5.672e+00         \n",
      "240          8.193e-05      5.912e+00         \n",
      "250          5.447e-05      6.156e+00         \n",
      "260          3.621e-05      6.395e+00         \n",
      "270          2.408e-05      6.646e+00         \n",
      "280          1.601e-05      6.892e+00         \n",
      "290          1.064e-05      7.132e+00         \n",
      "292          9.807e-06      7.182e+00         \n",
      "Converged in 292 steps\n"
     ]
    }
   ],
   "source": [
    "from quantecon import compute_fixed_point\n",
    "\n",
    "Tw = np.empty(len(grid))\n",
    "initial_w = 5 * np.log(grid)\n",
    "\n",
    "# Turn the Bellman operator into a function of one variable\n",
    "T = lambda w: bellman_operator(w,\n",
    "                               grid,\n",
    "                               beta,\n",
    "                               np.log,\n",
    "                               lambda k: k**alpha,\n",
    "                               shocks,\n",
    "                               compute_policy=False)\n",
    "\n",
    "v_star_approx = compute_fixed_point(T, initial_w,\n",
    "                                    error_tol=1e-5,  # error_tol\n",
    "                                    max_iter=500,   # max_iter\n",
    "                                    verbose=2,  # verbose\n",
    "                                    print_skip=10,     # print_skip\n",
    "                                    method='iteration')"
   ]
  },
  {
   "cell_type": "code",
   "execution_count": 10,
   "metadata": {},
   "outputs": [
    {
     "data": {
      "image/png": "[encoded data removed]",
      "text/plain": [
       "<matplotlib.figure.Figure at 0x1df1c3f2cf8>"
      ]
     },
     "metadata": {},
     "output_type": "display_data"
    }
   ],
   "source": [
    "fig, ax = plt.subplots(figsize=(9, 5))\n",
    "ax.set_ylim(-70, -24)\n",
    "ax.plot(grid, v_star_approx, lw=2, alpha=0.6, label='approximate value function')\n",
    "ax.plot(grid, v_star(grid), lw=2, alpha=0.6, label='true value function')\n",
    "ax.legend(loc='lower right')\n",
    "plt.show()"
   ]
  },
  {
   "cell_type": "markdown",
   "metadata": {
    "collapsed": true
   },
   "source": [
    "This is clearly not the best policy since $v_{\\sigma}$ is below $v^*$ for all values of y."
   ]
  }
 ],
 "metadata": {
  "anaconda-cloud": {},
  "kernelspec": {
   "display_name": "Python 3",
   "language": "python",
   "name": "python3"
  },
  "language_info": {
   "codemirror_mode": {
    "name": "ipython",
    "version": 3
   },
   "file_extension": ".py",
   "mimetype": "text/x-python",
   "name": "python",
   "nbconvert_exporter": "python",
   "pygments_lexer": "ipython3",
   "version": "3.6.1"
  }
 },
 "nbformat": 4,
 "nbformat_minor": 1
}
