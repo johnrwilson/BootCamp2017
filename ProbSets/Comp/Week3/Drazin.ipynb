{
 "cells": [
  {
   "cell_type": "code",
   "execution_count": 1,
   "metadata": {
    "collapsed": true
   },
   "outputs": [],
   "source": [
    "# drazin.py\n",
    "\"\"\"Volume 1: The Drazin Inverse.\n",
    "<John Wilson>\n",
    "<7/5/2017>\n",
    "\"\"\"\n",
    "\n",
    "import numpy as np\n",
    "from scipy import linalg as la\n",
    "\n",
    "\n",
    "# Helper function for problems 1 and 2.\n",
    "def index(A, tol=1e-5):\n",
    "    \"\"\"Compute the index of the matrix A.\n",
    "\n",
    "    Parameters:\n",
    "        A ((n,n) ndarray): An nxn matrix.\n",
    "\n",
    "    Returns:\n",
    "        k (int): The index of A.\n",
    "    \"\"\"\n",
    "\n",
    "    # test for non-singularity\n",
    "    if not np.allclose(la.det(A),0):\n",
    "        return 0\n",
    "\n",
    "    n = len(A)\n",
    "    k = 1\n",
    "    Ak = A.copy()\n",
    "    while k <= n:\n",
    "        r1 = np.linalg.matrix_rank(Ak)\n",
    "        r2 = np.linalg.matrix_rank(np.dot(A,Ak))\n",
    "        if r1 == r2:\n",
    "            return k\n",
    "        Ak = np.dot(A,Ak)\n",
    "        k += 1\n",
    "\n",
    "    return k"
   ]
  },
  {
   "cell_type": "code",
   "execution_count": 2,
   "metadata": {
    "collapsed": true
   },
   "outputs": [],
   "source": [
    "# Problem 1\n",
    "def is_drazin(A, Ad, k):\n",
    "    \"\"\"Verify that a matrix Ad is the Drazin inverse of A.\n",
    "\n",
    "    Parameters:\n",
    "        A ((n,n) ndarray): An nxn matrix.\n",
    "        Ad ((n,n) ndarray): A candidate for the Drazin inverse of A.\n",
    "        k (int): The index of A.\n",
    "\n",
    "    Returns:\n",
    "        bool: True of Ad is the Drazin inverse of A, False otherwise.\n",
    "    \"\"\"\n",
    "    power=np.linalg.matrix_power\n",
    "    if not np.allclose(A@Ad,Ad@A):\n",
    "        return False\n",
    "    if not np.allclose(power(A,k+1)@Ad,power(A,k)):\n",
    "        return False\n",
    "    if not np.allclose(Ad@A@Ad,Ad):\n",
    "        return False\n",
    "    return True"
   ]
  },
  {
   "cell_type": "code",
   "execution_count": 3,
   "metadata": {
    "collapsed": true
   },
   "outputs": [],
   "source": [
    "# Problem 2\n",
    "def drazin_inverse(A, tol=1e-4):\n",
    "    \"\"\"Compute the Drazin inverse of A.\n",
    "\n",
    "    Parameters:\n",
    "        A ((n,n) ndarray): An nxn matrix.\n",
    "\n",
    "    Returns:\n",
    "        Ad ((n,n) ndarray): The Drazin inverse of A.\n",
    "    \"\"\"\n",
    "    n,n=A.shape\n",
    "    f = lambda x: abs(x)>tol\n",
    "    Q1,S,k1 = la.schur(A,sort=f)\n",
    "    f = lambda x: abs(x)<=tol\n",
    "    Q2,T,k2 = la.schur(A,sort=f)\n",
    "    U=np.concatenate((S[:,:k1],T[:,:n-k1]),axis=1)\n",
    "    U_inv=la.inv(U)\n",
    "    V=U_inv@A@U\n",
    "    Z=np.zeros((n,n),dtype=np.float)\n",
    "    if k1!=0:\n",
    "        M_inv=la.inv(V[:k1,:k1])\n",
    "        Z[:k1,:k1]=M_inv\n",
    "    return U@Z@U_inv"
   ]
  },
  {
   "cell_type": "markdown",
   "metadata": {},
   "source": [
    "We now test functions for problems 1 and 2, using examples from the lab"
   ]
  },
  {
   "cell_type": "code",
   "execution_count": 4,
   "metadata": {
    "collapsed": true
   },
   "outputs": [],
   "source": [
    "def tests(A):\n",
    "    Ad=drazin_inverse(A)\n",
    "    print(Ad)\n",
    "    k=index(A)\n",
    "    return is_drazin(A,Ad,k)"
   ]
  },
  {
   "cell_type": "code",
   "execution_count": 5,
   "metadata": {},
   "outputs": [
    {
     "name": "stdout",
     "output_type": "stream",
     "text": [
      "[[  1.  -3.   9.  81.]\n",
      " [  0.   1.  -3. -18.]\n",
      " [  0.   0.   1.   3.]\n",
      " [  0.   0.   0.   0.]]\n"
     ]
    },
    {
     "data": {
      "text/plain": [
       "True"
      ]
     },
     "execution_count": 5,
     "metadata": {},
     "output_type": "execute_result"
    }
   ],
   "source": [
    "A=np.array([[1.,3,0,0],[0,1,3,0],[0,0,1,3],[0,0,0,0]])\n",
    "tests(A)"
   ]
  },
  {
   "cell_type": "code",
   "execution_count": 6,
   "metadata": {},
   "outputs": [
    {
     "name": "stdout",
     "output_type": "stream",
     "text": [
      "[[ 0.  0.  0.]\n",
      " [ 0.  0.  0.]\n",
      " [ 0.  0.  0.]]\n"
     ]
    },
    {
     "data": {
      "text/plain": [
       "True"
      ]
     },
     "execution_count": 6,
     "metadata": {},
     "output_type": "execute_result"
    }
   ],
   "source": [
    "B = np.array([[1,1,3],[5,2,6],[-2,-1,-3]])\n",
    "tests(B)"
   ]
  },
  {
   "cell_type": "code",
   "execution_count": 7,
   "metadata": {
    "collapsed": true
   },
   "outputs": [],
   "source": [
    "# Problem 3\n",
    "\n",
    "#First a helper function I wrote for another lab\n",
    "def laplacian(A):\n",
    "    '''\n",
    "    Compute the Laplacian matrix of the adjacency matrix A.\n",
    "    Inputs:\n",
    "        A (array): adjacency matrix for undirected weighted graph,\n",
    "             shape (n,n)\n",
    "    Returns:\n",
    "        L (array): Laplacian matrix of A\n",
    "\n",
    "    '''\n",
    "    diags = np.sum(A,axis=1)\n",
    "    D=np.diag(diags)\n",
    "    return D-A\n",
    "\n",
    "def effective_res(A):\n",
    "    \"\"\"Compute the effective resistance for each node in a graph.\n",
    "\n",
    "    Parameters:\n",
    "        A ((n,n) ndarray): The adjacency matrix of an undirected graph.\n",
    "\n",
    "    Returns:\n",
    "        ER ((n,n) ndarray): A matrix of which the ijth entry is the effective\n",
    "        resistance from node i to node j.\n",
    "    \"\"\"\n",
    "    n = A.shape[0]\n",
    "    L = laplacian(A)\n",
    "    R = np.zeros_like(A,dtype=np.float)\n",
    "    for i in range(A.shape[0]):\n",
    "        Ltemp = np.copy(L)\n",
    "        evec = np.zeros(n)\n",
    "        evec[i] = 1\n",
    "        Ltemp[i] = evec\n",
    "        Ld = drazin_inverse(Ltemp)\n",
    "        R[:,i] = np.diag(Ld)\n",
    "        R[i,i]=0\n",
    "    return R"
   ]
  },
  {
   "cell_type": "markdown",
   "metadata": {},
   "source": [
    "The following are some test cases for the effective resistance function"
   ]
  },
  {
   "cell_type": "code",
   "execution_count": 8,
   "metadata": {},
   "outputs": [
    {
     "data": {
      "text/plain": [
       "array([[ 0.,  3.,  1.,  2.],\n",
       "       [ 3.,  0.,  2.,  1.],\n",
       "       [ 1.,  2.,  0.,  1.],\n",
       "       [ 2.,  1.,  1.,  0.]])"
      ]
     },
     "execution_count": 8,
     "metadata": {},
     "output_type": "execute_result"
    }
   ],
   "source": [
    "A = np.array([[0,0,1,0],[0,0,0,1],[1,0,0,1],[0,1,1,0]])\n",
    "effective_res(A)"
   ]
  },
  {
   "cell_type": "code",
   "execution_count": 9,
   "metadata": {},
   "outputs": [
    {
     "data": {
      "text/plain": [
       "array([[ 0.  ,  0.25],\n",
       "       [ 0.25,  0.  ]])"
      ]
     },
     "execution_count": 9,
     "metadata": {},
     "output_type": "execute_result"
    }
   ],
   "source": [
    "B=np.array([[0,4],[4,0]])\n",
    "effective_res(B)"
   ]
  },
  {
   "cell_type": "code",
   "execution_count": 10,
   "metadata": {},
   "outputs": [
    {
     "data": {
      "text/plain": [
       "array([[ 0.        ,  0.66666667,  0.66666667],\n",
       "       [ 0.66666667,  0.        ,  0.66666667],\n",
       "       [ 0.66666667,  0.66666667,  0.        ]])"
      ]
     },
     "execution_count": 10,
     "metadata": {},
     "output_type": "execute_result"
    }
   ],
   "source": [
    "C = np.array([[0,1,1],[1,0,1],[1,1,0]])\n",
    "effective_res(C)"
   ]
  },
  {
   "cell_type": "code",
   "execution_count": 11,
   "metadata": {},
   "outputs": [],
   "source": [
    "# Problem 4\n",
    "class LinkPredictor:\n",
    "    \"\"\"Predict links between nodes of a network.\"\"\"\n",
    "\n",
    "    def __init__(self, filename='social_network.csv'):\n",
    "        \"\"\"Create the effective resistance matrix by constructing\n",
    "        an adjacency matrix.\n",
    "        \n",
    "        Parameters:\n",
    "            filename (str): The name of a file containing graph data.\n",
    "        \"\"\"\n",
    "        self.fromp=[]\n",
    "        self.top=[]\n",
    "        with open(filename, 'r') as infile:\n",
    "            lines=infile.readlines()\n",
    "        for l in lines:\n",
    "            line = l.split(',')\n",
    "            self.fromp.append(line[0])\n",
    "            self.top.append(line[1].strip())\n",
    "        keys=set()\n",
    "        for p in self.fromp:\n",
    "            keys.add(p)\n",
    "        for p in self.top:\n",
    "            keys.add(p)\n",
    "        self.key=dict.fromkeys(keys)\n",
    "        for i,k in enumerate(self.key):\n",
    "            self.key[k]=i\n",
    "        A=np.zeros((len(keys),len(keys)))\n",
    "        for i,l in enumerate(self.fromp):\n",
    "            A[self.key[l],self.key[self.top[i]]]=1\n",
    "            A[self.key[self.top[i]],self.key[l]]=1\n",
    "        self.A=A\n",
    "        self.R=effective_res(self.A)"
   ]
  },
  {
   "cell_type": "code",
   "execution_count": 12,
   "metadata": {},
   "outputs": [],
   "source": [
    "f=LinkPredictor()"
   ]
  }
 ],
 "metadata": {
  "kernelspec": {
   "display_name": "Python 3",
   "language": "python",
   "name": "python3"
  },
  "language_info": {
   "codemirror_mode": {
    "name": "ipython",
    "version": 3
   },
   "file_extension": ".py",
   "mimetype": "text/x-python",
   "name": "python",
   "nbconvert_exporter": "python",
   "pygments_lexer": "ipython3",
   "version": "3.6.1"
  }
 },
 "nbformat": 4,
 "nbformat_minor": 2
}
