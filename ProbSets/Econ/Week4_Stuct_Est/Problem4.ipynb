{
 "cells": [
  {
   "cell_type": "markdown",
   "metadata": {},
   "source": [
    "# Problem Set 4 - Structural Estimation"
   ]
  },
  {
   "cell_type": "markdown",
   "metadata": {},
   "source": [
    "## John Wilson\n",
    "### July 15, 2017"
   ]
  },
  {
   "cell_type": "code",
   "execution_count": 4,
   "metadata": {
    "collapsed": true
   },
   "outputs": [],
   "source": [
    "import numpy as np\n",
    "import scipy.stats as sts\n",
    "from scipy.special import gamma, beta\n",
    "from matplotlib import pyplot as plt\n",
    "import scipy.optimize as opt\n",
    "import scipy.integrate as integrate\n",
    "%matplotlib notebook"
   ]
  },
  {
   "cell_type": "markdown",
   "metadata": {},
   "source": [
    "## Problem 4"
   ]
  },
  {
   "cell_type": "markdown",
   "metadata": {},
   "source": [
    "### Part a)"
   ]
  },
  {
   "cell_type": "code",
   "execution_count": 5,
   "metadata": {
    "collapsed": true
   },
   "outputs": [],
   "source": [
    "data = np.genfromtxt('data/MacroSeries.txt', delimiter=',')\n",
    "c = data[:,0]\n",
    "k = data[:,1]\n",
    "w = data[:,2]\n",
    "r = data[:,3]"
   ]
  },
  {
   "cell_type": "code",
   "execution_count": 7,
   "metadata": {
    "collapsed": true
   },
   "outputs": [],
   "source": [
    "def mom_1(z, rho, mu):\n",
    "    moment = 0\n",
    "    for i in range(len(z)-1):\n",
    "        moment += z[i+1] - rho * z[i] - (1 - rho) * mu\n",
    "    return moment / (len(z) - 1)\n",
    "\n",
    "def mom_2(z, rho, mu):\n",
    "    moment = 0\n",
    "    for i in range(len(z)-1):\n",
    "        moment += ((z[i+1] - rho * z[i] - (1 - rho) * mu) * z[i])\n",
    "    return moment / (len(z) - 1)\n",
    "\n",
    "def mom_3(beta, alpha, z, k, c):\n",
    "    moment = 0\n",
    "    for i in range(len(z)-1):\n",
    "        moment += beta * alpha * np.exp(z[i+1]) * \\\n",
    "            k[i+1] ** (alpha - 1) * (c[i] / c[i+1]) - 1\n",
    "    return moment / (len(z) - 1)\n",
    "\n",
    "def mom_4(beta, alpha, z, k, c, w):\n",
    "    moment = 0\n",
    "    for i in range(len(z)-1):\n",
    "        moment += (beta * alpha * np.exp(z[i+1]) * \\\n",
    "            k[i+1] ** (alpha - 1) * (c[i] / c[i+1]) - 1) * w[i]\n",
    "    return moment / (len(z) - 1)\n",
    "\n",
    "def calc_moments(alpha, beta, rho, mu, c, k, w, z):\n",
    "    moment_1 = mom_1(z, rho, mu)\n",
    "    moment_2 = mom_2(z, rho, mu)\n",
    "    moment_3 = mom_3(beta, alpha, z, k, c)\n",
    "    moment_4 = mom_4(beta, alpha, z, k, c, w)\n",
    "    return np.array([moment_1, moment_2, moment_3, moment_4])\n",
    "\n",
    "def criterion(params, *args):\n",
    "    alpha, beta, rho, mu = params\n",
    "    c, k, w, r = args\n",
    "    z = np.log(r) - np.log(alpha) - (alpha- 1) * np.log(k)\n",
    "    z[0] = mu\n",
    "    err_vec = calc_moments(alpha, beta, rho, mu, c, k, w, z)\n",
    "    return np.dot(err_vec, err_vec)"
   ]
  },
  {
   "cell_type": "code",
   "execution_count": 58,
   "metadata": {
    "collapsed": true
   },
   "outputs": [],
   "source": [
    "alpha_init = .2\n",
    "beta_init = .6\n",
    "rho_init = 0\n",
    "mu_init = 10\n",
    "init_vals = np.array([alpha_init, beta_init, rho_init, mu_init])\n",
    "params = (c, k, w, r)\n",
    "bounds = ((1e-10, 1 - 1e-10), (1e-10, 1 - 1e-10), \\\n",
    "          (-1 + 1e-10, 1 - 1e-10), (1e-10, None))\n",
    "results = opt.minimize(criterion, init_vals, args = params, \\\n",
    "                      method = 'L-BFGS-B', bounds = bounds)"
   ]
  },
  {
   "cell_type": "code",
   "execution_count": 60,
   "metadata": {},
   "outputs": [
    {
     "name": "stdout",
     "output_type": "stream",
     "text": [
      "alpha_gmm = 0.41560732652  beta_gmm= 0.989999995966\n",
      "rho_gmm = 0.9999999999  mu_gmm= 10.1241268785\n",
      "Criterion value:  0.00194168036757\n"
     ]
    }
   ],
   "source": [
    "alpha_GMM, beta_GMM, rho_GMM, mu_GMM = results.x\n",
    "crit_val = results.fun\n",
    "print(\"alpha_gmm =\", alpha_GMM, \" beta_gmm=\", beta_GMM)\n",
    "print(\"rho_gmm =\", rho_GMM, \" mu_gmm=\", mu_GMM)\n",
    "print(\"Criterion value: \", crit_val)"
   ]
  }
 ],
 "metadata": {
  "kernelspec": {
   "display_name": "Python 3",
   "language": "python",
   "name": "python3"
  },
  "language_info": {
   "codemirror_mode": {
    "name": "ipython",
    "version": 3
   },
   "file_extension": ".py",
   "mimetype": "text/x-python",
   "name": "python",
   "nbconvert_exporter": "python",
   "pygments_lexer": "ipython3",
   "version": "3.6.1"
  }
 },
 "nbformat": 4,
 "nbformat_minor": 2
}
