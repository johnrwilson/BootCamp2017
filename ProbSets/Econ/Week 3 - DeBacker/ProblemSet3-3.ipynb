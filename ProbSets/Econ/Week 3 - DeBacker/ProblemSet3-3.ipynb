{
 "cells": [
  {
   "cell_type": "code",
   "execution_count": null,
   "metadata": {
    "collapsed": true
   },
   "outputs": [],
   "source": [
    "import numpy as np"
   ]
  },
  {
   "cell_type": "code",
   "execution_count": null,
   "metadata": {
    "collapsed": true
   },
   "outputs": [],
   "source": [
    "#Stationary Distributions:\n",
    "\n",
    "#First replace the following commented out values with values specific to\n",
    "#the problem.\n",
    "\n",
    "\"\"\"firm_dict = pickle.load(open('firm_objects.pkl', 'rb'))\n",
    "\n",
    "# for finding the stationary distribution\n",
    "Pi = firm_dict['Pi']  # the transition matrix for productivity shocks\n",
    "PF = firm_dict['PF']  # the firm's policy function: k'(z,k)\n",
    "sizez, sizek = PF.shape\n",
    "\n",
    "# To plot the stationary distribution\n",
    "z = firm_dict['z']  # the grid of productivity shocks\n",
    "kvec = firm_dict['kvec'] # the grid of capital\"\"\"\n",
    "\n",
    "Gamma = np.ones((sizez, sizek)) * (1 / (sizek * sizez))\n",
    "SDtol = 1e-12\n",
    "SDdist = 7\n",
    "SDiter = 0\n",
    "SDmaxiter = 1000\n",
    "while SDdist > SDtol and SDmaxiter > SDiter:\n",
    "    HGamma = np.zeros((sizez, sizek))\n",
    "    for i in range(sizez):  # z\n",
    "        for j in range(sizek):  # k\n",
    "            for m in range(sizez):  # z'\n",
    "                HGamma[m, PF[i, j]] = \\\n",
    "                    HGamma[m, PF[i, j]] + Pi[i, m] * Gamma[i, j]\n",
    "    SDdist = (np.absolute(HGamma - Gamma)).max()\n",
    "    Gamma = HGamma\n",
    "    SDiter += 1\n",
    "\n",
    "if SDiter < SDmaxiter:\n",
    "    print('Stationary distribution converged after this many iterations: ',\n",
    "          SDiter)\n",
    "else:\n",
    "    print('Stationary distribution did not converge')"
   ]
  }
 ],
 "metadata": {
  "kernelspec": {
   "display_name": "Python 3",
   "language": "python",
   "name": "python3"
  },
  "language_info": {
   "codemirror_mode": {
    "name": "ipython",
    "version": 3
   },
   "file_extension": ".py",
   "mimetype": "text/x-python",
   "name": "python",
   "nbconvert_exporter": "python",
   "pygments_lexer": "ipython3",
   "version": "3.6.1"
  }
 },
 "nbformat": 4,
 "nbformat_minor": 2
}
