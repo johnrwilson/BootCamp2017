{
 "cells": [
  {
   "cell_type": "code",
   "execution_count": 1,
   "metadata": {
    "collapsed": true
   },
   "outputs": [],
   "source": [
    "# drazin.py\n",
    "\"\"\"Volume 1: The Drazin Inverse.\n",
    "<John Wilson>\n",
    "<7/5/2017>\n",
    "\"\"\"\n",
    "\n",
    "import numpy as np\n",
    "from scipy import linalg as la\n",
    "\n",
    "\n",
    "# Helper function for problems 1 and 2.\n",
    "def index(A, tol=1e-5):\n",
    "    \"\"\"Compute the index of the matrix A.\n",
    "\n",
    "    Parameters:\n",
    "        A ((n,n) ndarray): An nxn matrix.\n",
    "\n",
    "    Returns:\n",
    "        k (int): The index of A.\n",
    "    \"\"\"\n",
    "\n",
    "    # test for non-singularity\n",
    "    if not np.allclose(la.det(A),0):\n",
    "        return 0\n",
    "\n",
    "    n = len(A)\n",
    "    k = 1\n",
    "    Ak = A.copy()\n",
    "    while k <= n:\n",
    "        r1 = np.linalg.matrix_rank(Ak)\n",
    "        r2 = np.linalg.matrix_rank(np.dot(A,Ak))\n",
    "        if r1 == r2:\n",
    "            return k\n",
    "        Ak = np.dot(A,Ak)\n",
    "        k += 1\n",
    "\n",
    "    return k"
   ]
  },
  {
   "cell_type": "code",
   "execution_count": 2,
   "metadata": {
    "collapsed": true
   },
   "outputs": [],
   "source": [
    "# Problem 1\n",
    "def is_drazin(A, Ad, k):\n",
    "    \"\"\"Verify that a matrix Ad is the Drazin inverse of A.\n",
    "\n",
    "    Parameters:\n",
    "        A ((n,n) ndarray): An nxn matrix.\n",
    "        Ad ((n,n) ndarray): A candidate for the Drazin inverse of A.\n",
    "        k (int): The index of A.\n",
    "\n",
    "    Returns:\n",
    "        bool: True of Ad is the Drazin inverse of A, False otherwise.\n",
    "    \"\"\"\n",
    "    power=np.linalg.matrix_power\n",
    "    if not np.allclose(A@Ad,Ad@A):\n",
    "        return False\n",
    "    if not np.allclose(power(A,k+1)@Ad,power(A,k)):\n",
    "        return False\n",
    "    if not np.allclose(Ad@A@Ad,Ad):\n",
    "        return False\n",
    "    return True"
   ]
  },
  {
   "cell_type": "code",
   "execution_count": 3,
   "metadata": {
    "collapsed": true
   },
   "outputs": [],
   "source": [
    "# Problem 2\n",
    "def drazin_inverse(A, tol=1e-4):\n",
    "    \"\"\"Compute the Drazin inverse of A.\n",
    "\n",
    "    Parameters:\n",
    "        A ((n,n) ndarray): An nxn matrix.\n",
    "\n",
    "    Returns:\n",
    "        Ad ((n,n) ndarray): The Drazin inverse of A.\n",
    "    \"\"\"\n",
    "    n,n=A.shape\n",
    "    f = lambda x: abs(x)>tol\n",
    "    Q1,S,k1 = la.schur(A,sort=f)\n",
    "    f = lambda x: abs(x)<=tol\n",
    "    Q2,T,k2 = la.schur(A,sort=f)\n",
    "    U=np.concatenate((S[:,:k1],T[:,:n-k1]),axis=1)\n",
    "    U_inv=la.inv(U)\n",
    "    V=U_inv@A@U\n",
    "    Z=np.zeros((n,n),dtype=np.float)\n",
    "    if k1!=0:\n",
    "        M_inv=la.inv(V[:k1,:k1])\n",
    "        Z[:k1,:k1]=M_inv\n",
    "    return U@Z@U_inv"
   ]
  },
  {
   "cell_type": "markdown",
   "metadata": {},
   "source": [
    "We now test functions for problems 1 and 2, using examples from the lab"
   ]
  },
  {
   "cell_type": "code",
   "execution_count": 4,
   "metadata": {
    "collapsed": true
   },
   "outputs": [],
   "source": [
    "def tests(A):\n",
    "    Ad=drazin_inverse(A)\n",
    "    print(Ad)\n",
    "    k=index(A)\n",
    "    return is_drazin(A,Ad,k)"
   ]
  },
  {
   "cell_type": "code",
   "execution_count": 5,
   "metadata": {},
   "outputs": [
    {
     "name": "stdout",
     "output_type": "stream",
     "text": [
      "[[  1.  -3.   9.  81.]\n",
      " [  0.   1.  -3. -18.]\n",
      " [  0.   0.   1.   3.]\n",
      " [  0.   0.   0.   0.]]\n"
     ]
    },
    {
     "data": {
      "text/plain": [
       "True"
      ]
     },
     "execution_count": 5,
     "metadata": {},
     "output_type": "execute_result"
    }
   ],
   "source": [
    "A=np.array([[1.,3,0,0],[0,1,3,0],[0,0,1,3],[0,0,0,0]])\n",
    "tests(A)"
   ]
  },
  {
   "cell_type": "code",
   "execution_count": 6,
   "metadata": {},
   "outputs": [
    {
     "name": "stdout",
     "output_type": "stream",
     "text": [
      "[[ 0.  0.  0.]\n",
      " [ 0.  0.  0.]\n",
      " [ 0.  0.  0.]]\n"
     ]
    },
    {
     "data": {
      "text/plain": [
       "True"
      ]
     },
     "execution_count": 6,
     "metadata": {},
     "output_type": "execute_result"
    }
   ],
   "source": [
    "B = np.array([[1,1,3],[5,2,6],[-2,-1,-3]])\n",
    "tests(B)"
   ]
  },
  {
   "cell_type": "code",
   "execution_count": 7,
   "metadata": {
    "collapsed": true
   },
   "outputs": [],
   "source": [
    "# Problem 3\n",
    "\n",
    "#First a helper function I wrote for another lab\n",
    "def laplacian(A):\n",
    "    '''\n",
    "    Compute the Laplacian matrix of the adjacency matrix A.\n",
    "    Inputs:\n",
    "        A (array): adjacency matrix for undirected weighted graph,\n",
    "             shape (n,n)\n",
    "    Returns:\n",
    "        L (array): Laplacian matrix of A\n",
    "\n",
    "    '''\n",
    "    diags = np.sum(A,axis=1)\n",
    "    D=np.diag(diags)\n",
    "    return D-A\n",
    "\n",
    "def effective_res(A):\n",
    "    \"\"\"Compute the effective resistance for each node in a graph.\n",
    "\n",
    "    Parameters:\n",
    "        A ((n,n) ndarray): The adjacency matrix of an undirected graph.\n",
    "\n",
    "    Returns:\n",
    "        ER ((n,n) ndarray): A matrix of which the ijth entry is the effective\n",
    "        resistance from node i to node j.\n",
    "    \"\"\"\n",
    "    n = A.shape[0]\n",
    "    L = laplacian(A)\n",
    "    R = np.zeros_like(A,dtype=np.float)\n",
    "    for i in range(A.shape[0]):\n",
    "        Ltemp = np.copy(L)\n",
    "        evec = np.zeros(n)\n",
    "        evec[i] = 1\n",
    "        Ltemp[i] = evec\n",
    "        Ld = drazin_inverse(Ltemp)\n",
    "        R[:,i] = np.diag(Ld)\n",
    "        R[i,i]=0\n",
    "    return R"
   ]
  },
  {
   "cell_type": "markdown",
   "metadata": {},
   "source": [
    "The following are some test cases for the effective resistance function"
   ]
  },
  {
   "cell_type": "code",
   "execution_count": 8,
   "metadata": {},
   "outputs": [
    {
     "data": {
      "text/plain": [
       "array([[ 0.,  3.,  1.,  2.],\n",
       "       [ 3.,  0.,  2.,  1.],\n",
       "       [ 1.,  2.,  0.,  1.],\n",
       "       [ 2.,  1.,  1.,  0.]])"
      ]
     },
     "execution_count": 8,
     "metadata": {},
     "output_type": "execute_result"
    }
   ],
   "source": [
    "A = np.array([[0,0,1,0],[0,0,0,1],[1,0,0,1],[0,1,1,0]])\n",
    "effective_res(A)"
   ]
  },
  {
   "cell_type": "code",
   "execution_count": 9,
   "metadata": {},
   "outputs": [
    {
     "data": {
      "text/plain": [
       "array([[ 0.  ,  0.25],\n",
       "       [ 0.25,  0.  ]])"
      ]
     },
     "execution_count": 9,
     "metadata": {},
     "output_type": "execute_result"
    }
   ],
   "source": [
    "B=np.array([[0,4],[4,0]])\n",
    "effective_res(B)"
   ]
  },
  {
   "cell_type": "code",
   "execution_count": 10,
   "metadata": {},
   "outputs": [
    {
     "data": {
      "text/plain": [
       "array([[ 0.        ,  0.66666667,  0.66666667],\n",
       "       [ 0.66666667,  0.        ,  0.66666667],\n",
       "       [ 0.66666667,  0.66666667,  0.        ]])"
      ]
     },
     "execution_count": 10,
     "metadata": {},
     "output_type": "execute_result"
    }
   ],
   "source": [
    "C = np.array([[0,1,1],[1,0,1],[1,1,0]])\n",
    "effective_res(C)"
   ]
  },
  {
   "cell_type": "code",
   "execution_count": 11,
   "metadata": {
    "collapsed": true
   },
   "outputs": [],
   "source": [
    "# Problems  4 and 5\n",
    "class LinkPredictor:\n",
    "    \"\"\"Predict links between nodes of a network.\"\"\"\n",
    "\n",
    "    def __init__(self, filename='social_network.csv'):\n",
    "        \"\"\"Create the effective resistance matrix by constructing\n",
    "        an adjacency matrix.\n",
    "        \n",
    "        Parameters:\n",
    "            filename (str): The name of a file containing graph data.\n",
    "        \"\"\"\n",
    "        self.fromp=[]\n",
    "        self.top=[]\n",
    "        with open(filename, 'r') as infile:\n",
    "            lines=infile.readlines()\n",
    "        for l in lines:\n",
    "            line = l.split(',')\n",
    "            self.fromp.append(line[0])\n",
    "            self.top.append(line[1].strip())\n",
    "        keys=set()\n",
    "        for p in self.fromp:\n",
    "            keys.add(p)\n",
    "        for p in self.top:\n",
    "            keys.add(p)\n",
    "        self.key=dict.fromkeys(keys)\n",
    "        for i,k in enumerate(self.key):\n",
    "            self.key[k]=i\n",
    "        A=np.zeros((len(keys),len(keys)))\n",
    "        for i,l in enumerate(self.fromp):\n",
    "            A[self.key[l],self.key[self.top[i]]]=1\n",
    "            A[self.key[self.top[i]],self.key[l]]=1\n",
    "        self.A=A\n",
    "        self.R=effective_res(self.A)\n",
    "        self.inv_map = {v: k for k, v in self.key.items()}\n",
    "        \n",
    "        \n",
    "    def predict_link(self, node=None):\n",
    "        \"\"\"Predict the next link, either for the whole graph or for a\n",
    "        particular node.\n",
    "        \n",
    "        Parameters:\n",
    "            node (str): The name of a node in the network.\n",
    "        \n",
    "        Returns:\n",
    "            node1, node2 (str): The names of the next nodes to be linked.\n",
    "                Returned if node is None.\n",
    "            node1 (str): The name of the next node to be linked to 'node'.\n",
    "                Returned if node is not None.\n",
    "        \n",
    "        Raises:\n",
    "            ValueError: If node is not in the graph.\n",
    "        \"\"\"\n",
    "        R=np.copy(self.R)\n",
    "        R=R*(self.A==0)\n",
    "        R[R==0]=np.inf\n",
    "        if node is None:\n",
    "            minval = np.min(R)\n",
    "            nodes = np.where(R==minval)\n",
    "            return self.inv_map[nodes[0][0]], self.inv_map[nodes[1][0]]\n",
    "        else:\n",
    "            if node not in self.key.keys():\n",
    "                raise ValueError(\"{} not found in network\".format(node))\n",
    "            index = self.key[node]\n",
    "            return self.inv_map[np.argmin(R[:,index])]\n",
    "        \n",
    "\n",
    "\n",
    "    def add_link(self, node1, node2):\n",
    "        \"\"\"Add a link to the graph between node 1 and node 2 by updating the\n",
    "        adjacency matrix and the effective resistance matrix.\n",
    "\n",
    "        Parameters:\n",
    "            node1 (str): The name of a node in the network.\n",
    "            node2 (str): The name of a node in the network.\n",
    "\n",
    "        Raises:\n",
    "            ValueError: If either node1 or node2 is not in the graph.\n",
    "        \"\"\"\n",
    "        if node1 not in self.key.keys():\n",
    "            raise ValueError(\"{} not a person in network\".format(node1))\n",
    "        if node2 not in self.key.keys():\n",
    "            raise ValueError(\"{} not a person in network\".format(node2))\n",
    "        index1 = self.key[node1]\n",
    "        index2 = self.key[node2]\n",
    "        if index1 == index2:\n",
    "            raise ValueError(\"A person cannot befriend themselves in this network\")\n",
    "        if self.A[index1,index2] != 0:\n",
    "            print(\"{} and {} are already friends\".format(node1,node2))\n",
    "            pass\n",
    "        self.A[index1,index2]=1\n",
    "        self.A[index2,index1]=1\n",
    "        self.R=effective_res(self.A)\n",
    "        print(\"{} and {} are now connected\".format(node1,node2))"
   ]
  },
  {
   "cell_type": "markdown",
   "metadata": {},
   "source": [
    "Several test cases follow, using the hints about expected outputs following the description of problems 4 and 5 in the lab"
   ]
  },
  {
   "cell_type": "code",
   "execution_count": 12,
   "metadata": {},
   "outputs": [],
   "source": [
    "f=LinkPredictor()"
   ]
  },
  {
   "cell_type": "code",
   "execution_count": 13,
   "metadata": {},
   "outputs": [
    {
     "data": {
      "text/plain": [
       "('Emily', 'Oliver')"
      ]
     },
     "execution_count": 13,
     "metadata": {},
     "output_type": "execute_result"
    }
   ],
   "source": [
    "f.predict_link()"
   ]
  },
  {
   "cell_type": "code",
   "execution_count": 14,
   "metadata": {},
   "outputs": [
    {
     "ename": "ValueError",
     "evalue": "Henrique not found in network",
     "output_type": "error",
     "traceback": [
      "\u001b[1;31m---------------------------------------------------------------------------\u001b[0m",
      "\u001b[1;31mValueError\u001b[0m                                Traceback (most recent call last)",
      "\u001b[1;32m<ipython-input-14-63739b27e4de>\u001b[0m in \u001b[0;36m<module>\u001b[1;34m()\u001b[0m\n\u001b[1;32m----> 1\u001b[1;33m \u001b[0mf\u001b[0m\u001b[1;33m.\u001b[0m\u001b[0mpredict_link\u001b[0m\u001b[1;33m(\u001b[0m\u001b[1;34m\"Henrique\"\u001b[0m\u001b[1;33m)\u001b[0m\u001b[1;33m\u001b[0m\u001b[0m\n\u001b[0m",
      "\u001b[1;32m<ipython-input-11-2dedbc4b4a32>\u001b[0m in \u001b[0;36mpredict_link\u001b[1;34m(self, node)\u001b[0m\n\u001b[0;32m     60\u001b[0m         \u001b[1;32melse\u001b[0m\u001b[1;33m:\u001b[0m\u001b[1;33m\u001b[0m\u001b[0m\n\u001b[0;32m     61\u001b[0m             \u001b[1;32mif\u001b[0m \u001b[0mnode\u001b[0m \u001b[1;32mnot\u001b[0m \u001b[1;32min\u001b[0m \u001b[0mself\u001b[0m\u001b[1;33m.\u001b[0m\u001b[0mkey\u001b[0m\u001b[1;33m.\u001b[0m\u001b[0mkeys\u001b[0m\u001b[1;33m(\u001b[0m\u001b[1;33m)\u001b[0m\u001b[1;33m:\u001b[0m\u001b[1;33m\u001b[0m\u001b[0m\n\u001b[1;32m---> 62\u001b[1;33m                 \u001b[1;32mraise\u001b[0m \u001b[0mValueError\u001b[0m\u001b[1;33m(\u001b[0m\u001b[1;34m\"{} not found in network\"\u001b[0m\u001b[1;33m.\u001b[0m\u001b[0mformat\u001b[0m\u001b[1;33m(\u001b[0m\u001b[0mnode\u001b[0m\u001b[1;33m)\u001b[0m\u001b[1;33m)\u001b[0m\u001b[1;33m\u001b[0m\u001b[0m\n\u001b[0m\u001b[0;32m     63\u001b[0m             \u001b[0mindex\u001b[0m \u001b[1;33m=\u001b[0m \u001b[0mself\u001b[0m\u001b[1;33m.\u001b[0m\u001b[0mkey\u001b[0m\u001b[1;33m[\u001b[0m\u001b[0mnode\u001b[0m\u001b[1;33m]\u001b[0m\u001b[1;33m\u001b[0m\u001b[0m\n\u001b[0;32m     64\u001b[0m             \u001b[1;32mreturn\u001b[0m \u001b[0mself\u001b[0m\u001b[1;33m.\u001b[0m\u001b[0minv_map\u001b[0m\u001b[1;33m[\u001b[0m\u001b[0mnp\u001b[0m\u001b[1;33m.\u001b[0m\u001b[0margmin\u001b[0m\u001b[1;33m(\u001b[0m\u001b[0mR\u001b[0m\u001b[1;33m[\u001b[0m\u001b[1;33m:\u001b[0m\u001b[1;33m,\u001b[0m\u001b[0mindex\u001b[0m\u001b[1;33m]\u001b[0m\u001b[1;33m)\u001b[0m\u001b[1;33m]\u001b[0m\u001b[1;33m\u001b[0m\u001b[0m\n",
      "\u001b[1;31mValueError\u001b[0m: Henrique not found in network"
     ]
    }
   ],
   "source": [
    "f.predict_link(\"Henrique\")"
   ]
  },
  {
   "cell_type": "code",
   "execution_count": 15,
   "metadata": {},
   "outputs": [
    {
     "data": {
      "text/plain": [
       "'Carol'"
      ]
     },
     "execution_count": 15,
     "metadata": {},
     "output_type": "execute_result"
    }
   ],
   "source": [
    "f.predict_link(\"Melanie\")"
   ]
  },
  {
   "cell_type": "code",
   "execution_count": 16,
   "metadata": {},
   "outputs": [
    {
     "ename": "ValueError",
     "evalue": "Carlos not a person in network",
     "output_type": "error",
     "traceback": [
      "\u001b[1;31m---------------------------------------------------------------------------\u001b[0m",
      "\u001b[1;31mValueError\u001b[0m                                Traceback (most recent call last)",
      "\u001b[1;32m<ipython-input-16-dcbddcb48b6d>\u001b[0m in \u001b[0;36m<module>\u001b[1;34m()\u001b[0m\n\u001b[1;32m----> 1\u001b[1;33m \u001b[0mf\u001b[0m\u001b[1;33m.\u001b[0m\u001b[0madd_link\u001b[0m\u001b[1;33m(\u001b[0m\u001b[1;34m\"Oliver\"\u001b[0m\u001b[1;33m,\u001b[0m\u001b[1;34m\"Carlos\"\u001b[0m\u001b[1;33m)\u001b[0m\u001b[1;33m\u001b[0m\u001b[0m\n\u001b[0m",
      "\u001b[1;32m<ipython-input-11-2dedbc4b4a32>\u001b[0m in \u001b[0;36madd_link\u001b[1;34m(self, node1, node2)\u001b[0m\n\u001b[0;32m     80\u001b[0m             \u001b[1;32mraise\u001b[0m \u001b[0mValueError\u001b[0m\u001b[1;33m(\u001b[0m\u001b[1;34m\"{} not a person in network\"\u001b[0m\u001b[1;33m.\u001b[0m\u001b[0mformat\u001b[0m\u001b[1;33m(\u001b[0m\u001b[0mnode1\u001b[0m\u001b[1;33m)\u001b[0m\u001b[1;33m)\u001b[0m\u001b[1;33m\u001b[0m\u001b[0m\n\u001b[0;32m     81\u001b[0m         \u001b[1;32mif\u001b[0m \u001b[0mnode2\u001b[0m \u001b[1;32mnot\u001b[0m \u001b[1;32min\u001b[0m \u001b[0mself\u001b[0m\u001b[1;33m.\u001b[0m\u001b[0mkey\u001b[0m\u001b[1;33m.\u001b[0m\u001b[0mkeys\u001b[0m\u001b[1;33m(\u001b[0m\u001b[1;33m)\u001b[0m\u001b[1;33m:\u001b[0m\u001b[1;33m\u001b[0m\u001b[0m\n\u001b[1;32m---> 82\u001b[1;33m             \u001b[1;32mraise\u001b[0m \u001b[0mValueError\u001b[0m\u001b[1;33m(\u001b[0m\u001b[1;34m\"{} not a person in network\"\u001b[0m\u001b[1;33m.\u001b[0m\u001b[0mformat\u001b[0m\u001b[1;33m(\u001b[0m\u001b[0mnode2\u001b[0m\u001b[1;33m)\u001b[0m\u001b[1;33m)\u001b[0m\u001b[1;33m\u001b[0m\u001b[0m\n\u001b[0m\u001b[0;32m     83\u001b[0m         \u001b[0mindex1\u001b[0m \u001b[1;33m=\u001b[0m \u001b[0mself\u001b[0m\u001b[1;33m.\u001b[0m\u001b[0mkey\u001b[0m\u001b[1;33m[\u001b[0m\u001b[0mnode1\u001b[0m\u001b[1;33m]\u001b[0m\u001b[1;33m\u001b[0m\u001b[0m\n\u001b[0;32m     84\u001b[0m         \u001b[0mindex2\u001b[0m \u001b[1;33m=\u001b[0m \u001b[0mself\u001b[0m\u001b[1;33m.\u001b[0m\u001b[0mkey\u001b[0m\u001b[1;33m[\u001b[0m\u001b[0mnode2\u001b[0m\u001b[1;33m]\u001b[0m\u001b[1;33m\u001b[0m\u001b[0m\n",
      "\u001b[1;31mValueError\u001b[0m: Carlos not a person in network"
     ]
    }
   ],
   "source": [
    "f.add_link(\"Oliver\",\"Carlos\")"
   ]
  },
  {
   "cell_type": "code",
   "execution_count": 17,
   "metadata": {},
   "outputs": [
    {
     "data": {
      "text/plain": [
       "'Sonia'"
      ]
     },
     "execution_count": 17,
     "metadata": {},
     "output_type": "execute_result"
    }
   ],
   "source": [
    "f.predict_link(\"Alan\")"
   ]
  },
  {
   "cell_type": "code",
   "execution_count": 18,
   "metadata": {},
   "outputs": [
    {
     "name": "stdout",
     "output_type": "stream",
     "text": [
      "Alan and Sonia are now connected\n"
     ]
    }
   ],
   "source": [
    "f.add_link(\"Alan\",\"Sonia\")"
   ]
  },
  {
   "cell_type": "code",
   "execution_count": 19,
   "metadata": {},
   "outputs": [
    {
     "data": {
      "text/plain": [
       "'Piers'"
      ]
     },
     "execution_count": 19,
     "metadata": {},
     "output_type": "execute_result"
    }
   ],
   "source": [
    "f.predict_link(\"Alan\")"
   ]
  },
  {
   "cell_type": "code",
   "execution_count": 20,
   "metadata": {},
   "outputs": [
    {
     "name": "stdout",
     "output_type": "stream",
     "text": [
      "Piers and Alan are now connected\n"
     ]
    }
   ],
   "source": [
    "f.add_link(\"Piers\",\"Alan\")"
   ]
  },
  {
   "cell_type": "code",
   "execution_count": 21,
   "metadata": {},
   "outputs": [
    {
     "data": {
      "text/plain": [
       "'Abigail'"
      ]
     },
     "execution_count": 21,
     "metadata": {},
     "output_type": "execute_result"
    }
   ],
   "source": [
    "f.predict_link(\"Alan\")"
   ]
  },
  {
   "cell_type": "code",
   "execution_count": 22,
   "metadata": {},
   "outputs": [
    {
     "name": "stdout",
     "output_type": "stream",
     "text": [
      "Abigail and Alan are now connected\n"
     ]
    }
   ],
   "source": [
    "f.add_link(\"Abigail\",\"Alan\")"
   ]
  }
 ],
 "metadata": {
  "kernelspec": {
   "display_name": "Python 3",
   "language": "python",
   "name": "python3"
  },
  "language_info": {
   "codemirror_mode": {
    "name": "ipython",
    "version": 3
   },
   "file_extension": ".py",
   "mimetype": "text/x-python",
   "name": "python",
   "nbconvert_exporter": "python",
   "pygments_lexer": "ipython3",
   "version": "3.6.1"
  }
 },
 "nbformat": 4,
 "nbformat_minor": 2
}
