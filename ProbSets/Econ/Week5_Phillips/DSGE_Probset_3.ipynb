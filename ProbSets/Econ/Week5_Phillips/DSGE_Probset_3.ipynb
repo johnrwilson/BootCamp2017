{
 "cells": [
  {
   "cell_type": "code",
   "execution_count": 16,
   "metadata": {
    "collapsed": true
   },
   "outputs": [],
   "source": [
    "import numpy as np\n",
    "from scipy import optimize as opt\n",
    "import scipy.linalg as la\n",
    "from matplotlib import pyplot as plt\n",
    "%matplotlib inline"
   ]
  },
  {
   "cell_type": "markdown",
   "metadata": {},
   "source": [
    "### Problem 1"
   ]
  },
  {
   "cell_type": "markdown",
   "metadata": {},
   "source": [
    "Careful differentiation yields that $x_{uuu}(u) = - \\left(F_{xxx}\\{x(u),u)\\}x_u^3(u) + 3F_{xxu}\\{x(u),u\\}x_u^2(u)+3F_{xx}\\{x(u),u\\}x_{uu}(u)x_u(u)+3F_{xuu}\\{x(u),u\\}x_u(u)+3F_{xu}\\{x(u),u\\}x_{uu}(u)+F_{uuu}\\{x(u),u\\}\\right)/ F_x\\{x(u),u\\}$\n",
    "\n",
    "where $x_{u}(u)$ and $x_{uu}(u)$ are defined as previously."
   ]
  },
  {
   "cell_type": "markdown",
   "metadata": {},
   "source": [
    "### Problem 2"
   ]
  },
  {
   "cell_type": "code",
   "execution_count": 2,
   "metadata": {
    "collapsed": true
   },
   "outputs": [],
   "source": [
    "# Initialize model parameters\n",
    "\n",
    "alpha = 0.33\n",
    "z = 1.0\n",
    "b = 2.0\n",
    "t = 0.1\n",
    "h = 24.0"
   ]
  },
  {
   "cell_type": "code",
   "execution_count": 3,
   "metadata": {},
   "outputs": [],
   "source": [
    "# Define the equation necessary for numerical differentiation\n",
    "\n",
    "def E(inputs, *params):\n",
    "    w = inputs\n",
    "    k = params\n",
    "    print(k)\n",
    "    print(w)\n",
    "    \n",
    "    nd = k * (((1 - alpha) * z) / w) ** (1/alpha)\n",
    "    pi = z * (k ** alpha) * (nd **(1 - alpha)) - w * nd\n",
    "    ns = h - (b / (w * (1 + b))) * (w * h + pi - t)\n",
    "    E = ns - nd\n",
    "    return E\n",
    "\n",
    "def E(inputs, params):\n",
    "    w = inputs\n",
    "    k = params\n",
    "    \n",
    "    nd = k * (((1 - alpha) * z) / w) ** (1/alpha)\n",
    "    pi = z * (k ** alpha) * (nd **(1 - alpha)) - w * nd\n",
    "    ns = h - (b / (w * (1 + b))) * (w * h + pi - t)\n",
    "    E = ns - nd\n",
    "    return E\n",
    "\n",
    "w_init = 0.5\n",
    "w5 = opt.fsolve(E, np.array([0.5]), args = 5)\n",
    "w10 = opt.fsolve(E, np.array([0.5]), args = 10)"
   ]
  },
  {
   "cell_type": "code",
   "execution_count": 4,
   "metadata": {
    "collapsed": true
   },
   "outputs": [],
   "source": [
    "e = 1e-5\n",
    "\n",
    "def Fx(F, x, y):\n",
    "    return (F(x+e,y) - F(x-e,y))/(2*e)\n",
    "\n",
    "def Fy(F, x, y):\n",
    "    return (F(x,y+e) - F(x,y-e))/(2*e)\n",
    "\n",
    "def Fxx(F, x, y):\n",
    "    return (F(x+e,y)-2*F(x,y)+F(x-e,y))/(e**2)\n",
    "\n",
    "def Fyy(F, x, y):\n",
    "    return (F(x,y+e)-2*F(x,y)+F(x,y-e))/(e**2)\n",
    "\n",
    "def Fxy(F, x, y):\n",
    "    return (F(x+e,y+e)-F(x-e,y+e)-F(x+e,y-e)+F(x-e,y-e))/(4*e**2)\n",
    "\n",
    "def wk(F, x, y):\n",
    "    return -Fy(F,x,y)/Fx(F,x,y)\n",
    "\n",
    "def wkk(F, x, y):\n",
    "    numerator = Fxx(F,x, y)*(wk(F,x, y)**2) + 2*Fxy(F,x, y)*wk(F,x, y) +\\\n",
    "        Fyy(F,x, y)\n",
    "    denominator = Fx(F,x, y)\n",
    "    return -numerator/denominator"
   ]
  },
  {
   "cell_type": "code",
   "execution_count": 5,
   "metadata": {
    "collapsed": true
   },
   "outputs": [],
   "source": [
    "def linear(k, w0, k0):\n",
    "    return w0 + wk(E,w0, k0)*(k-k0)\n",
    "\n",
    "def quadratic(k, w0, k0):\n",
    "    return w0 + wk(E,w0, k0) * (k-k0) + .5 * wkk(E,w0, k0) * ((k - k0)  ** 2)"
   ]
  },
  {
   "cell_type": "code",
   "execution_count": 6,
   "metadata": {
    "collapsed": true
   },
   "outputs": [],
   "source": [
    "dom = np.linspace(1,15,100)\n",
    "actual = np.zeros_like(dom)\n",
    "for i in range(len(dom)):\n",
    "    actual[i] = opt.root(E, np.array([0.5]), args = dom[i]).x[0]"
   ]
  },
  {
   "cell_type": "markdown",
   "metadata": {},
   "source": [
    "About k=5:"
   ]
  },
  {
   "cell_type": "code",
   "execution_count": 7,
   "metadata": {},
   "outputs": [
    {
     "data": {
      "image/png": "[encoded data removed]",
      "text/plain": [
       "<matplotlib.figure.Figure at 0x2a4b12ef710>"
      ]
     },
     "metadata": {},
     "output_type": "display_data"
    }
   ],
   "source": [
    "plt.plot(dom, linear(dom, w5, 5), label = \"Linear\")\n",
    "plt.plot(dom, quadratic(dom, w5, 5), label = \"Quadratic\")\n",
    "plt.plot(dom, actual, label = \"True values\")\n",
    "plt.title(\"Taylor approximations of implicit function about k=5\")\n",
    "plt.xlabel(\"Capital\")\n",
    "plt.ylabel(\"Wage rate\")\n",
    "plt.legend()\n",
    "plt.show()"
   ]
  },
  {
   "cell_type": "markdown",
   "metadata": {},
   "source": [
    "About k=10:"
   ]
  },
  {
   "cell_type": "code",
   "execution_count": 8,
   "metadata": {},
   "outputs": [
    {
     "data": {
      "image/png": "[encoded data removed]",
      "text/plain": [
       "<matplotlib.figure.Figure at 0x2a4b3f060b8>"
      ]
     },
     "metadata": {},
     "output_type": "display_data"
    }
   ],
   "source": [
    "plt.plot(dom, linear(dom, w10, 10), label = \"Linear\")\n",
    "plt.plot(dom, quadratic(dom, w10, 10), label = \"Quadratic\")\n",
    "plt.plot(dom, actual, label = \"True values\")\n",
    "plt.title(\"Taylor approximations of implicit function about k=10\")\n",
    "plt.xlabel(\"Capital\")\n",
    "plt.ylabel(\"Wage rate\")\n",
    "plt.legend()\n",
    "plt.show()"
   ]
  },
  {
   "cell_type": "markdown",
   "metadata": {},
   "source": [
    "### Problem 3"
   ]
  },
  {
   "cell_type": "code",
   "execution_count": 9,
   "metadata": {
    "collapsed": true
   },
   "outputs": [],
   "source": [
    "e = 1e-5\n",
    "\n",
    "def F(x, y):\n",
    "    return (x**.35+.9*x-y)**(-2.5) - .95*(y**.35+.9*y)**(-2.5)\n",
    "\n",
    "def Fx(x, y):\n",
    "    return (F(x+e,y) - F(x-e,y))/(2*e)\n",
    "\n",
    "def Fy(x, y):\n",
    "    return (F(x,y+e) - F(x,y-e))/(2*e)\n",
    "\n",
    "def Fxx(x, y):\n",
    "    return (F(x+e,y)-2*F(x,y)+F(x-e,y))/(e**2)\n",
    "\n",
    "def Fyy(x, y):\n",
    "    return (F(x,y+e)-2*F(x,y)+F(x,y-e))/(e**2)\n",
    "\n",
    "def Fxy(x, y):\n",
    "    return (F(x+e,y+e)-F(x-e,y+e)-F(x+e,y-e)+F(x-e,y-e))/(4*e**2)\n",
    "\n",
    "def Fxxx(x, y):\n",
    "    return (F(x+2*e, y)-2*F(x+e,y)+2*F(x-e,y)-F(x-2*e,y))/(2*e**3)\n",
    "\n",
    "def Fxxy(x, y):\n",
    "    return (F(x+2*e,y+e) - 2*F(x, y+e) -\\\n",
    "            F(x+2*e, y-e)+F(x-2*e,y+e)+2*F(x, y-e)-F(x-2*e, y-e))/(8*e)\n",
    "\n",
    "def Fxyy(x, y):\n",
    "    return (F(x-e,y+2*e)-2*F(x-e,y)-F(x+e,y+2*e)+\\\n",
    "            2*F(x-e,y-2*e)-F(x+e,y-2*e))/(8*e)\n",
    "\n",
    "def Fyyy(x, y):\n",
    "    return (F(x,y+2*e)-2*F(x,y+e)+2*F(x,y-e)-F(x,y-2*e))/(2*e**3)"
   ]
  },
  {
   "cell_type": "code",
   "execution_count": 10,
   "metadata": {
    "collapsed": true
   },
   "outputs": [],
   "source": [
    "def yu(x, y):\n",
    "    return -Fx(x,y)/Fy(x,y)\n",
    "\n",
    "def yuu(x, y):\n",
    "    numerator = Fyy(x, y)*(yu(x, y)**2) + 2*Fxy(x, y)*yu(x, y) + Fxx(x, y)\n",
    "    denominator = Fy(x, y)\n",
    "    return -numerator/denominator\n",
    "\n",
    "def yuuu(x, y):\n",
    "    numerator = Fyyy(x,y)*(yu(x,y)**3)+Fxyy(x,y)*(yu(x,y)**2)+2*Fyy(x,y)*yuu(x,y)*yu(x,y)+\\\n",
    "        2*Fxyy(x,y)*(yu(x,y)**2)+2*Fxxy(x,y)*yu(x,y)+2*Fxy(x,y)*yuu(x,y)+Fyy(x,y)*yuu(x,y)*yu(x,y)+\\\n",
    "        Fxy(x,y)*yuu(x,y)+Fxxy(x,y)*yu(x,y)+Fxx(x,y)\n",
    "    denominator = Fy(x, y)\n",
    "    return -numerator/denominator"
   ]
  },
  {
   "cell_type": "code",
   "execution_count": 11,
   "metadata": {
    "collapsed": true
   },
   "outputs": [],
   "source": [
    "x0 = 100\n",
    "y0 = 49.2166\n",
    "\n",
    "def linear(x):\n",
    "    return y0 + yu(x0, y0) * (x-x0)\n",
    "\n",
    "def quadratic(x):\n",
    "    return y0 + yu(x0, y0) * (x-x0) + .5 * yuu(x0, y0) * ((x - x0)  ** 2)\n",
    "\n",
    "def cubic(x):\n",
    "    return y0 + yu(x0, y0) * (x-x0) + .5 * yuu(x0, y0) * ((x - x0)  ** 2) + (1 / 6) * yuuu(x0, y0) * ((x - x0) ** 3)\n",
    "\n"
   ]
  },
  {
   "cell_type": "code",
   "execution_count": 13,
   "metadata": {},
   "outputs": [
    {
     "data": {
      "text/plain": [
       "[<matplotlib.lines.Line2D at 0x2a4b4367a58>]"
      ]
     },
     "execution_count": 13,
     "metadata": {},
     "output_type": "execute_result"
    },
    {
     "data": {
      "image/png": "[encoded data removed]",
      "text/plain": [
       "<matplotlib.figure.Figure at 0x2a4b424c9e8>"
      ]
     },
     "metadata": {},
     "output_type": "display_data"
    }
   ],
   "source": [
    "def F1(inputs, params):\n",
    "    y = inputs[0]\n",
    "    x = params\n",
    "    return (x ** 0.35 + 0.9 * x - y) - 0.95 * (y ** 0.35 + 0.9 * y)\n",
    "\n",
    "dom = np.linspace(99, 101, 100)\n",
    "plt.plot(dom, linear(dom))\n",
    "plt.plot(dom, quadratic(dom))\n",
    "plt.plot(dom, cubic(dom))\n",
    "y = np.zeros(100)\n",
    "for i in range(100):\n",
    "    result = opt.root(F1, 50, args = dom[i])\n",
    "    y[i] = result.x\n",
    "plt.plot(dom, y)"
   ]
  },
  {
   "cell_type": "markdown",
   "metadata": {},
   "source": [
    "### Problem 4"
   ]
  },
  {
   "cell_type": "code",
   "execution_count": 17,
   "metadata": {},
   "outputs": [
    {
     "name": "stdout",
     "output_type": "stream",
     "text": [
      "Hx =  0.35\n"
     ]
    }
   ],
   "source": [
    "#Find Hx analytically \n",
    "\n",
    "alpha = 0.35\n",
    "beta = 0.98\n",
    "kbar = (alpha * beta) ** (1 / (1 - alpha))\n",
    "kvec = np.full((25), kbar)\n",
    "weights = np.linspace(0.5, 1.5, 25)\n",
    "kvec = weights * kbar\n",
    "rho = 0.9\n",
    "\n",
    "#Use Uhlig's notation to find values of F, G, H, L, M\n",
    "\n",
    "F = (alpha * beta * kbar ** (alpha - 1)) / ((kbar ** alpha) - kbar)\n",
    "G = - (beta * alpha * kbar **(alpha - 1) * (alpha + kbar ** (alpha-1))) / (kbar**alpha - kbar)\n",
    "H = (beta * alpha ** 2 * kbar ** (2 * (alpha - 1))) / (kbar ** alpha - kbar)\n",
    "L = - (alpha * beta * kbar**alpha) / (kbar ** alpha - kbar)\n",
    "M = (alpha * beta * kbar ** (2 * alpha - 1)) / (kbar ** alpha - kbar)\n",
    "\n",
    "P1 = (-G + np.sqrt(G **2 - 4 * F * H)) / (2 * F)\n",
    "P2 = (-G - np.sqrt(G **2 - 4 * F * H)) / (2 * F)\n",
    "\n",
    "if la.norm(P1) < 1:\n",
    "    Hx = P1\n",
    "else:\n",
    "    Hx = P2\n",
    "\n",
    "N = rho\n",
    "\n",
    "QQ = - (L * N + M) / (F * N + F * Hx + G)\n",
    "\n",
    "print(\"Hx = \", Hx)"
   ]
  },
  {
   "cell_type": "code",
   "execution_count": null,
   "metadata": {
    "collapsed": true
   },
   "outputs": [],
   "source": [
    "\"\"\"def xuu(u):\n",
    "    numerator = (Fyy(u)*xu(u)**4 + 2*Fyx(u)*xu(u)**3 + 2*Fyu(u)*xu(u)**2 +\\\n",
    "                 Fxx(u)*xu(u)**2 + 2*Fxu(u)*xu(u) + Fuu(u))\n",
    "    denominator = (Fy(u)*xu(u)**2 + Fy(u)*xu(u) + Fx(u))\n",
    "    return - numerator / denominator\n",
    "\n",
    "def Fuu(u):\n",
    "    a = alpha\n",
    "    numerator = (a - 1) * a ** 2 * beta * u ** (2*a-3)\n",
    "    denominator = (u ** a - u)\n",
    "    return numerator / denominator\n",
    "\n",
    "def Fyy(u):\n",
    "    a = alpha\n",
    "    numerator = 2*a*beta*u**(a-1)\n",
    "    denom = (u**alpha - u)**2\n",
    "    return numerator / denom\n",
    "\n",
    "def Fyx(u):\n",
    "    a = alpha\n",
    "    num = a*beta*u**(a-2)*((1-a)*u**(2*a)+(2*a-1)*u**(a+1)+a*u**2)\n",
    "    denom = (u**a-u)**3\n",
    "    return num / denom\n",
    "\n",
    "def Fyu(u):\n",
    "    a = alpha\n",
    "    num = alpha**2*beta*u**(2*(a-1))\n",
    "    denom = (u**a-u)**2\n",
    "    return num / denom\n",
    "\n",
    "def Fxx(u):\n",
    "    a = alpha\n",
    "    num = a*beta*u**(a-3)*((2*u**(3*a))+(a**2+3*a-4)*u**(2*a+1)+\\\n",
    "               (a**2-3*a+2)*u**(2+a) - a*(a+1)*u**(a+2) - (a-1)*a*u**3)\n",
    "    denom = (u**a-u)**3\n",
    "    return num/denom\n",
    "\n",
    "def Fxu(u):\n",
    "    a = alpha\n",
    "    num = a**2*beta*u**(2*a-3)*(u**a+(a-1)*u)\n",
    "    denom = (u**a-u)**2\n",
    "    return num / denom\"\"\""
   ]
  },
  {
   "cell_type": "code",
   "execution_count": 18,
   "metadata": {},
   "outputs": [
    {
     "name": "stdout",
     "output_type": "stream",
     "text": [
      "14.667352944392718\n",
      "-31.431111072747104\n",
      "7.4833433389758754\n",
      "105.30926981616871\n",
      "-16.95315434854578\n",
      "-9.317089716937744\n",
      "Hxx =  -1.18008563556\n"
     ]
    }
   ],
   "source": [
    "#Find Hxx\n",
    "\n",
    "def Fy(kbar):\n",
    "    return (alpha * beta * kbar ** (alpha - 1)) / ((kbar ** alpha) - kbar)\n",
    "\n",
    "def Fx(kbar):\n",
    "    return - (beta * alpha * kbar **(alpha - 1) * (alpha + kbar ** (alpha-1))) / (kbar**alpha - kbar)\n",
    "\n",
    "def Fuu(u):\n",
    "    a = alpha\n",
    "    numerator = (a - 1) * a ** 2 * beta * u ** (2*a-3)\n",
    "    denominator = (u ** a - u)\n",
    "    return numerator / denominator\n",
    "\n",
    "def Fyy(u):\n",
    "    a = alpha\n",
    "    numerator = 2*a*beta*u**(a-1)\n",
    "    denom = (u**alpha - u)**2\n",
    "    return numerator / denom\n",
    "\n",
    "def Fyx(u):\n",
    "    a = alpha\n",
    "    num = a*beta*(u**(a-2))*((-1-a)*u**(2*a)+u**(a+1)+a*u**2)\n",
    "    denom = (u**a-u)**3\n",
    "    return num / denom\n",
    "\n",
    "def Fyu(u):\n",
    "    a = alpha\n",
    "    num = alpha**2*beta*u**(2*(a-1))\n",
    "    denom = (u**a-u)**2\n",
    "    return num / denom\n",
    "\n",
    "def Fxx(u):\n",
    "    a = alpha\n",
    "    num = a*beta*u**(a-3)*((2*u**(3*a))+(a**2+3*a-4)*u**(2*a+1)+\\\n",
    "               (a**2-3*a+2)*u**(2+a) - a*(a+1)*u**(a+2) - (a-1)*a*u**3)\n",
    "    denom = (u**a-u)**3\n",
    "    return num/denom\n",
    "\n",
    "def Fxu(u):\n",
    "    a = alpha\n",
    "    num = - a**2*beta*u**(2*a-3)*(u**a+(a-1)*u)\n",
    "    denom = (u**a-u)**2\n",
    "    return num / denom\n",
    "\n",
    "def xu(u):\n",
    "    return Hx\n",
    "\n",
    "def xuu(u):\n",
    "    numerator = (Fyy(u)*xu(u)**4 + 2*Fyx(u)*xu(u)**3 + 2*Fyu(u)*xu(u)**2 +\\\n",
    "                 Fxx(u)*xu(u)**2 + 2*Fxu(u)*xu(u) + Fuu(u))\n",
    "    denominator = (Fy(u)*xu(u)**2 + Fy(u)*xu(u) + Fx(u))\n",
    "\n",
    "    return - numerator / denominator\n",
    "\n",
    "Hxx = xuu(kbar)\n",
    "\n",
    "print(Fyy(kbar))\n",
    "print(Fyx(kbar))\n",
    "print(Fyu(kbar))\n",
    "print(Fxx(kbar))\n",
    "print(Fxu(kbar))\n",
    "print(Fuu(kbar))\n",
    "print(\"Hxx = \", Hxx)"
   ]
  },
  {
   "cell_type": "code",
   "execution_count": null,
   "metadata": {
    "collapsed": true
   },
   "outputs": [],
   "source": [
    "# Find values to plot\n",
    "\n",
    "optK_quad = np.zeros_like(kvec)\n",
    "optK_linear = np.zeros_like(kvec)\n",
    "optK_cfs = np.zeros_like(kvec)\n",
    "\n",
    "\n",
    "\n",
    "def quad(K):\n",
    "    return "
   ]
  },
  {
   "cell_type": "code",
   "execution_count": null,
   "metadata": {
    "collapsed": true
   },
   "outputs": [],
   "source": [
    "#Plot\n",
    "\n",
    "plt.plot(kvec, optK_quad, label = 'Quadratic')\n",
    "plt.plot(kvec, optK_linear, label = 'Linear')\n",
    "plt.plot(kvec, optK_cfs, label = 'Closed Form')\n",
    "plt.xlabel('K')\n",
    "plt.ylabel('K Prime')\n",
    "plt.legend()"
   ]
  }
 ],
 "metadata": {
  "kernelspec": {
   "display_name": "Python 3",
   "language": "python",
   "name": "python3"
  },
  "language_info": {
   "codemirror_mode": {
    "name": "ipython",
    "version": 3
   },
   "file_extension": ".py",
   "mimetype": "text/x-python",
   "name": "python",
   "nbconvert_exporter": "python",
   "pygments_lexer": "ipython3",
   "version": "3.6.1"
  }
 },
 "nbformat": 4,
 "nbformat_minor": 2
}
