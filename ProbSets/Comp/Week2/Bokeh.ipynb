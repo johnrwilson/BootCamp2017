{
 "cells": [
  {
   "cell_type": "markdown",
   "metadata": {},
   "source": [
    "# Bokeh\n",
    "\n",
    "## John Wilson"
   ]
  },
  {
   "cell_type": "code",
   "execution_count": 1,
   "metadata": {
    "collapsed": true
   },
   "outputs": [],
   "source": [
    "import numpy as np\n",
    "import pandas as pd\n",
    "from bokeh.plotting import figure, output_file, show, Figure, output_notebook\n",
    "from bokeh.models import ColumnDataSource, WMTSTileSource, HoverTool, Select\n",
    "from bokeh.io import output_file, show, curdoc\n",
    "from bokeh.models.widgets import Select\n",
    "from bokeh.layouts import column\n",
    "from bokeh.palettes import Reds9\n",
    "import pickle\n",
    "from pyproj import Proj, transform"
   ]
  },
  {
   "cell_type": "markdown",
   "metadata": {},
   "source": [
    "### Problem 1"
   ]
  },
  {
   "cell_type": "code",
   "execution_count": 2,
   "metadata": {
    "collapsed": true
   },
   "outputs": [],
   "source": [
    "accidents = drivers=pd.read_pickle('fars_data/final_accidents2.pickle')"
   ]
  },
  {
   "cell_type": "code",
   "execution_count": 3,
   "metadata": {
    "collapsed": true
   },
   "outputs": [],
   "source": [
    "drivers = pd.read_pickle('fars_data/final_drivers.pickle')"
   ]
  },
  {
   "cell_type": "code",
   "execution_count": 4,
   "metadata": {
    "collapsed": true
   },
   "outputs": [],
   "source": [
    "#drivers=pd.read_pickle('fars_data/final_drivers.pickle')\n",
    "accidents[accidents[\"LATITUDE\"]==77.7777]=np.nan\n",
    "accidents[accidents[\"LATITUDE\"]==88.8888]=np.nan\n",
    "accidents[accidents[\"LATITUDE\"]==99.9999]=np.nan\n",
    "accidents[accidents[\"LONGITUD\"]==777.7777]=np.nan\n",
    "accidents[accidents[\"LONGITUD\"]==888.8888]=np.nan\n",
    "accidents[accidents[\"LONGITUD\"]==999.9999]=np.nan\n",
    "accidents=accidents.dropna()"
   ]
  },
  {
   "cell_type": "markdown",
   "metadata": {
    "collapsed": true
   },
   "source": [
    "### Problem 2"
   ]
  },
  {
   "cell_type": "code",
   "execution_count": 5,
   "metadata": {
    "collapsed": true
   },
   "outputs": [],
   "source": [
    "from_proj = Proj(init=\"epsg:4326\")\n",
    "to_proj = Proj(init=\"epsg:3857\")\n",
    "\n",
    "def convert(longitudes, latitudes):\n",
    "    \"\"\"Converts latlon coordinates to meters.\n",
    "    \n",
    "    Inputs:\n",
    "        longitudes (array-like) : array of longitudes\n",
    "        latitudes (array-like) : array of latitudes\n",
    "        \n",
    "    Example:\n",
    "        x,y = convert(accidents.LONGITUD, accidents.LATITUDE)\n",
    "    \"\"\"\n",
    "    x_vals = []\n",
    "    y_vals = []\n",
    "    for lon, lat in zip(longitudes, latitudes):\n",
    "        x, y = transform(from_proj, to_proj, lon, lat)\n",
    "        x_vals.append(x)\n",
    "        y_vals.append(y)\n",
    "    return x_vals, y_vals\n",
    "\n",
    "accidents[\"x\"], accidents[\"y\"] = convert(accidents.LONGITUD, accidents.LATITUDE)"
   ]
  },
  {
   "cell_type": "markdown",
   "metadata": {},
   "source": [
    "### Problem 4"
   ]
  },
  {
   "cell_type": "code",
   "execution_count": 6,
   "metadata": {},
   "outputs": [
    {
     "data": {
      "text/html": [
       "<div style=\"display: table;\"><div style=\"display: table-row;\"><div style=\"display: table-cell;\"><b title=\"bokeh.models.renderers.TileRenderer\">TileRenderer</b>(</div><div style=\"display: table-cell;\">id&nbsp;=&nbsp;'071843de-55e1-4204-97f2-9d691fc0007f', <span id=\"72e7130e-44b9-445b-9a5a-5c9d93dd6dd0\" style=\"cursor: pointer;\">&hellip;)</span></div></div><div class=\"68f23da5-da84-44c7-84b5-12c75a4e80da\" style=\"display: none;\"><div style=\"display: table-cell;\"></div><div style=\"display: table-cell;\">alpha&nbsp;=&nbsp;1.0,</div></div><div class=\"68f23da5-da84-44c7-84b5-12c75a4e80da\" style=\"display: none;\"><div style=\"display: table-cell;\"></div><div style=\"display: table-cell;\">js_event_callbacks&nbsp;=&nbsp;{},</div></div><div class=\"68f23da5-da84-44c7-84b5-12c75a4e80da\" style=\"display: none;\"><div style=\"display: table-cell;\"></div><div style=\"display: table-cell;\">js_property_callbacks&nbsp;=&nbsp;{},</div></div><div class=\"68f23da5-da84-44c7-84b5-12c75a4e80da\" style=\"display: none;\"><div style=\"display: table-cell;\"></div><div style=\"display: table-cell;\">level&nbsp;=&nbsp;'underlay',</div></div><div class=\"68f23da5-da84-44c7-84b5-12c75a4e80da\" style=\"display: none;\"><div style=\"display: table-cell;\"></div><div style=\"display: table-cell;\">name&nbsp;=&nbsp;None,</div></div><div class=\"68f23da5-da84-44c7-84b5-12c75a4e80da\" style=\"display: none;\"><div style=\"display: table-cell;\"></div><div style=\"display: table-cell;\">render_parents&nbsp;=&nbsp;True,</div></div><div class=\"68f23da5-da84-44c7-84b5-12c75a4e80da\" style=\"display: none;\"><div style=\"display: table-cell;\"></div><div style=\"display: table-cell;\">subscribed_events&nbsp;=&nbsp;[],</div></div><div class=\"68f23da5-da84-44c7-84b5-12c75a4e80da\" style=\"display: none;\"><div style=\"display: table-cell;\"></div><div style=\"display: table-cell;\">tags&nbsp;=&nbsp;[],</div></div><div class=\"68f23da5-da84-44c7-84b5-12c75a4e80da\" style=\"display: none;\"><div style=\"display: table-cell;\"></div><div style=\"display: table-cell;\">tile_source&nbsp;=&nbsp;WMTSTileSource(id='5ce0944e-9ca9-4737-848f-9694f2f5cddb', ...),</div></div><div class=\"68f23da5-da84-44c7-84b5-12c75a4e80da\" style=\"display: none;\"><div style=\"display: table-cell;\"></div><div style=\"display: table-cell;\">visible&nbsp;=&nbsp;True,</div></div><div class=\"68f23da5-da84-44c7-84b5-12c75a4e80da\" style=\"display: none;\"><div style=\"display: table-cell;\"></div><div style=\"display: table-cell;\">x_range_name&nbsp;=&nbsp;'default',</div></div><div class=\"68f23da5-da84-44c7-84b5-12c75a4e80da\" style=\"display: none;\"><div style=\"display: table-cell;\"></div><div style=\"display: table-cell;\">y_range_name&nbsp;=&nbsp;'default')</div></div></div>\n",
       "<script>\n",
       "(function() {\n",
       "  var expanded = false;\n",
       "  var ellipsis = document.getElementById(\"72e7130e-44b9-445b-9a5a-5c9d93dd6dd0\");\n",
       "  ellipsis.addEventListener(\"click\", function() {\n",
       "    var rows = document.getElementsByClassName(\"68f23da5-da84-44c7-84b5-12c75a4e80da\");\n",
       "    for (var i = 0; i < rows.length; i++) {\n",
       "      var el = rows[i];\n",
       "      el.style.display = expanded ? \"none\" : \"table-row\";\n",
       "    }\n",
       "    ellipsis.innerHTML = expanded ? \"&hellip;)\" : \"&lsaquo;&lsaquo;&lsaquo;\";\n",
       "    expanded = !expanded;\n",
       "  });\n",
       "})();\n",
       "</script>\n"
      ],
      "text/plain": [
       "TileRenderer(id='071843de-55e1-4204-97f2-9d691fc0007f', ...)"
      ]
     },
     "execution_count": 6,
     "metadata": {},
     "output_type": "execute_result"
    }
   ],
   "source": [
    "fig = Figure(plot_width=1100, plot_height=650,\n",
    "    x_range=(-13000000, -7000000), y_range=(2750000, 6250000),\n",
    "    tools=[\"wheel_zoom\", \"pan\"], active_scroll=\"wheel_zoom\", webgl=True)\n",
    "fig.axis.visible = False\n",
    "\n",
    "STAMEN_TONER_BACKGROUND = WMTSTileSource(\n",
    "    url='http://tile.stamen.com/toner-background/{Z}/{X}/{Y}.png',\n",
    "    attribution=(\n",
    "        'Map tiles by <a href=\"http://stamen.com\">Stamen Design</a>, '\n",
    "        'under <a href=\"http://creativecommons.org/licenses/by/3.0\">CC BY 3.0</a>.'\n",
    "        'Data by <a href=\"http://openstreetmap.org\">OpenStreetMap</a>, '\n",
    "        'under <a href=\"http://www.openstreetmap.org/copyright\">ODbL</a>'\n",
    "    )\n",
    ")\n",
    "\n",
    "fig.add_tile(STAMEN_TONER_BACKGROUND)"
   ]
  },
  {
   "cell_type": "markdown",
   "metadata": {},
   "source": [
    "### Problem 6"
   ]
  },
  {
   "cell_type": "code",
   "execution_count": 7,
   "metadata": {},
   "outputs": [],
   "source": [
    "cir_source = ColumnDataSource(accidents[(accidents[\"SP\"]==0)&(accidents[\"DRUNK_DR\"]==0)])\n",
    "cir = fig.circle(x='x', y='y', source=cir_source, fill_color='green', \\\n",
    "                 line_width=0, size=1, fill_alpha=.5)\n",
    "\n",
    "cir_source = ColumnDataSource(accidents[(accidents[\"SP\"]==1)&(accidents[\"DRUNK_DR\"]==0)])\n",
    "cir1 = fig.circle(x='x', y='y', source=cir_source, fill_color='red', \\\n",
    "                 line_width=0, size=1, fill_alpha=.5)\n",
    "\n",
    "cir_source = ColumnDataSource(accidents[(accidents[\"SP\"]==0)&(accidents[\"DRUNK_DR\"]==1)])\n",
    "cir2 = fig.circle(x='x', y='y', source=cir_source, fill_color='blue', \\\n",
    "                 line_width=0, size=1, fill_alpha=.5)\n",
    "\n",
    "cir_source = ColumnDataSource(accidents[(accidents[\"SP\"]==1)&(accidents[\"DRUNK_DR\"]==1)])\n",
    "cir3 = fig.circle(x='x', y='y', source=cir_source, fill_color='purple', \\\n",
    "                 line_width=0, size=1, fill_alpha=.5)"
   ]
  },
  {
   "cell_type": "code",
   "execution_count": 8,
   "metadata": {
    "collapsed": true
   },
   "outputs": [],
   "source": [
    "show(fig)"
   ]
  },
  {
   "cell_type": "code",
   "execution_count": null,
   "metadata": {
    "collapsed": true
   },
   "outputs": [],
   "source": []
  }
 ],
 "metadata": {
  "kernelspec": {
   "display_name": "Python 3",
   "language": "python",
   "name": "python3"
  },
  "language_info": {
   "codemirror_mode": {
    "name": "ipython",
    "version": 3
   },
   "file_extension": ".py",
   "mimetype": "text/x-python",
   "name": "python",
   "nbconvert_exporter": "python",
   "pygments_lexer": "ipython3",
   "version": "3.6.1"
  }
 },
 "nbformat": 4,
 "nbformat_minor": 1
}
