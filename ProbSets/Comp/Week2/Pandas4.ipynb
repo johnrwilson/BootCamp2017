{
 "cells": [
  {
   "cell_type": "markdown",
   "metadata": {},
   "source": [
    "# Pandas 4\n",
    "\n",
    "## John Wilson"
   ]
  },
  {
   "cell_type": "code",
   "execution_count": 1,
   "metadata": {
    "collapsed": true
   },
   "outputs": [],
   "source": [
    "import numpy as np\n",
    "import pandas as pd\n",
    "from datetime import datetime\n",
    "from matplotlib import pyplot as plt\n",
    "%matplotlib inline"
   ]
  },
  {
   "cell_type": "markdown",
   "metadata": {},
   "source": [
    "### Problem 1"
   ]
  },
  {
   "cell_type": "code",
   "execution_count": 2,
   "metadata": {
    "collapsed": true
   },
   "outputs": [],
   "source": [
    "djia = pd.read_csv(\"DJIA.csv\", header=0)\n",
    "djia.index=pd.to_datetime(djia[\"DATE\"],format=\"%Y-%m-%d\")\n",
    "djia=djia.drop(\"DATE\",axis=1)\n",
    "djia[djia[\"VALUE\"]=='.']=np.nan\n",
    "djia=djia.dropna()"
   ]
  },
  {
   "cell_type": "markdown",
   "metadata": {},
   "source": [
    "### Problem 2"
   ]
  },
  {
   "cell_type": "code",
   "execution_count": 3,
   "metadata": {
    "collapsed": true
   },
   "outputs": [],
   "source": [
    "checks = pd.read_csv(\"paychecks.csv\")\n",
    "temp1 = len(checks.iloc[0::2])\n",
    "temp2 = len(checks.iloc[1::2])\n",
    "x=pd.date_range(start='3/13/2008', periods = temp1, freq='WOM-3FRI')\n",
    "y=pd.date_range(start='3/13/2008', periods = temp2, freq='WOM-1FRI')\n",
    "t = x.union(y)\n",
    "checks[\"DATE\"] = t\n",
    "checks.index=checks[\"DATE\"]"
   ]
  },
  {
   "cell_type": "markdown",
   "metadata": {},
   "source": [
    "### Problem 4"
   ]
  },
  {
   "cell_type": "code",
   "execution_count": 4,
   "metadata": {
    "collapsed": true
   },
   "outputs": [],
   "source": [
    "fin = pd.read_csv(\"finances.csv\",header=0)\n",
    "fin.index=pd.period_range(\"1978-09\",periods=len(fin),freq=\"Q-AUG\")"
   ]
  },
  {
   "cell_type": "markdown",
   "metadata": {},
   "source": [
    "### Problem 5\n"
   ]
  },
  {
   "cell_type": "code",
   "execution_count": 5,
   "metadata": {
    "collapsed": true
   },
   "outputs": [],
   "source": [
    "web = pd.read_csv(\"website_traffic.csv\",header=0)\n",
    "web[\"ENTER\"]=pd.to_datetime(web[\"ENTER\"])\n",
    "web[\"LEAVE\"]=pd.to_datetime(web[\"LEAVE\"])\n",
    "web[\"DURATION\"] = web[\"LEAVE\"] - web[\"ENTER\"]"
   ]
  },
  {
   "cell_type": "code",
   "execution_count": 6,
   "metadata": {},
   "outputs": [
    {
     "data": {
      "text/plain": [
       "Timedelta('0 days 00:05:04.731647')"
      ]
     },
     "execution_count": 6,
     "metadata": {},
     "output_type": "execute_result"
    }
   ],
   "source": [
    "web[\"DURATION\"].mean()"
   ]
  },
  {
   "cell_type": "markdown",
   "metadata": {},
   "source": [
    "Above is found the mean visit time."
   ]
  },
  {
   "cell_type": "code",
   "execution_count": 7,
   "metadata": {
    "collapsed": true
   },
   "outputs": [],
   "source": [
    "web1 = web.copy()\n",
    "web1[\"VISIT\"]=1\n",
    "web1=web1.drop(\"DURATION\",axis=1)"
   ]
  },
  {
   "cell_type": "markdown",
   "metadata": {},
   "source": [
    "Below is found the hourly number of visits."
   ]
  },
  {
   "cell_type": "code",
   "execution_count": 8,
   "metadata": {},
   "outputs": [
    {
     "data": {
      "text/html": [
       "<div>\n",
       "<style>\n",
       "    .dataframe thead tr:only-child th {\n",
       "        text-align: right;\n",
       "    }\n",
       "\n",
       "    .dataframe thead th {\n",
       "        text-align: left;\n",
       "    }\n",
       "\n",
       "    .dataframe tbody tr th {\n",
       "        vertical-align: top;\n",
       "    }\n",
       "</style>\n",
       "<table border=\"1\" class=\"dataframe\">\n",
       "  <thead>\n",
       "    <tr style=\"text-align: right;\">\n",
       "      <th></th>\n",
       "      <th>VISIT</th>\n",
       "    </tr>\n",
       "    <tr>\n",
       "      <th>ENTER</th>\n",
       "      <th></th>\n",
       "    </tr>\n",
       "  </thead>\n",
       "  <tbody>\n",
       "    <tr>\n",
       "      <th>2016-10-07 01:00:00</th>\n",
       "      <td>618</td>\n",
       "    </tr>\n",
       "    <tr>\n",
       "      <th>2016-10-07 02:00:00</th>\n",
       "      <td>655</td>\n",
       "    </tr>\n",
       "    <tr>\n",
       "      <th>2016-10-07 03:00:00</th>\n",
       "      <td>670</td>\n",
       "    </tr>\n",
       "    <tr>\n",
       "      <th>2016-10-07 04:00:00</th>\n",
       "      <td>632</td>\n",
       "    </tr>\n",
       "    <tr>\n",
       "      <th>2016-10-07 05:00:00</th>\n",
       "      <td>672</td>\n",
       "    </tr>\n",
       "    <tr>\n",
       "      <th>2016-10-07 06:00:00</th>\n",
       "      <td>602</td>\n",
       "    </tr>\n",
       "    <tr>\n",
       "      <th>2016-10-07 07:00:00</th>\n",
       "      <td>660</td>\n",
       "    </tr>\n",
       "    <tr>\n",
       "      <th>2016-10-07 08:00:00</th>\n",
       "      <td>650</td>\n",
       "    </tr>\n",
       "    <tr>\n",
       "      <th>2016-10-07 09:00:00</th>\n",
       "      <td>665</td>\n",
       "    </tr>\n",
       "    <tr>\n",
       "      <th>2016-10-07 10:00:00</th>\n",
       "      <td>647</td>\n",
       "    </tr>\n",
       "    <tr>\n",
       "      <th>2016-10-07 11:00:00</th>\n",
       "      <td>605</td>\n",
       "    </tr>\n",
       "    <tr>\n",
       "      <th>2016-10-07 12:00:00</th>\n",
       "      <td>646</td>\n",
       "    </tr>\n",
       "    <tr>\n",
       "      <th>2016-10-07 13:00:00</th>\n",
       "      <td>670</td>\n",
       "    </tr>\n",
       "    <tr>\n",
       "      <th>2016-10-07 14:00:00</th>\n",
       "      <td>628</td>\n",
       "    </tr>\n",
       "    <tr>\n",
       "      <th>2016-10-07 15:00:00</th>\n",
       "      <td>607</td>\n",
       "    </tr>\n",
       "    <tr>\n",
       "      <th>2016-10-07 16:00:00</th>\n",
       "      <td>683</td>\n",
       "    </tr>\n",
       "    <tr>\n",
       "      <th>2016-10-07 17:00:00</th>\n",
       "      <td>632</td>\n",
       "    </tr>\n",
       "    <tr>\n",
       "      <th>2016-10-07 18:00:00</th>\n",
       "      <td>629</td>\n",
       "    </tr>\n",
       "    <tr>\n",
       "      <th>2016-10-07 19:00:00</th>\n",
       "      <td>702</td>\n",
       "    </tr>\n",
       "    <tr>\n",
       "      <th>2016-10-07 20:00:00</th>\n",
       "      <td>644</td>\n",
       "    </tr>\n",
       "    <tr>\n",
       "      <th>2016-10-07 21:00:00</th>\n",
       "      <td>641</td>\n",
       "    </tr>\n",
       "    <tr>\n",
       "      <th>2016-10-07 22:00:00</th>\n",
       "      <td>677</td>\n",
       "    </tr>\n",
       "  </tbody>\n",
       "</table>\n",
       "</div>"
      ],
      "text/plain": [
       "                     VISIT\n",
       "ENTER                     \n",
       "2016-10-07 01:00:00    618\n",
       "2016-10-07 02:00:00    655\n",
       "2016-10-07 03:00:00    670\n",
       "2016-10-07 04:00:00    632\n",
       "2016-10-07 05:00:00    672\n",
       "2016-10-07 06:00:00    602\n",
       "2016-10-07 07:00:00    660\n",
       "2016-10-07 08:00:00    650\n",
       "2016-10-07 09:00:00    665\n",
       "2016-10-07 10:00:00    647\n",
       "2016-10-07 11:00:00    605\n",
       "2016-10-07 12:00:00    646\n",
       "2016-10-07 13:00:00    670\n",
       "2016-10-07 14:00:00    628\n",
       "2016-10-07 15:00:00    607\n",
       "2016-10-07 16:00:00    683\n",
       "2016-10-07 17:00:00    632\n",
       "2016-10-07 18:00:00    629\n",
       "2016-10-07 19:00:00    702\n",
       "2016-10-07 20:00:00    644\n",
       "2016-10-07 21:00:00    641\n",
       "2016-10-07 22:00:00    677"
      ]
     },
     "execution_count": 8,
     "metadata": {},
     "output_type": "execute_result"
    }
   ],
   "source": [
    "web1.resample(\"H\",on=\"ENTER\").sum()"
   ]
  },
  {
   "cell_type": "markdown",
   "metadata": {
    "collapsed": true
   },
   "source": [
    "### Problem 6"
   ]
  },
  {
   "cell_type": "code",
   "execution_count": 9,
   "metadata": {
    "collapsed": true,
    "scrolled": true
   },
   "outputs": [],
   "source": [
    "djia[\"VALUE\"] = pd.to_numeric(djia[\"VALUE\"])"
   ]
  },
  {
   "cell_type": "code",
   "execution_count": 10,
   "metadata": {
    "collapsed": true
   },
   "outputs": [],
   "source": [
    "gain=djia.shift(-1)-djia\n",
    "gain=gain.dropna()"
   ]
  },
  {
   "cell_type": "code",
   "execution_count": 11,
   "metadata": {},
   "outputs": [
    {
     "data": {
      "text/plain": [
       "VALUE    936.42\n",
       "Name: 2008-10-10 00:00:00, dtype: float64"
      ]
     },
     "execution_count": 11,
     "metadata": {},
     "output_type": "execute_result"
    }
   ],
   "source": [
    "gain.sort_values(\"VALUE\",ascending=False).iloc[0]"
   ]
  },
  {
   "cell_type": "markdown",
   "metadata": {},
   "source": [
    "The day with the greatest gain was 10/10/2008"
   ]
  },
  {
   "cell_type": "code",
   "execution_count": 17,
   "metadata": {},
   "outputs": [
    {
     "data": {
      "text/plain": [
       "VALUE   -777.68\n",
       "Name: 2008-09-26 00:00:00, dtype: float64"
      ]
     },
     "execution_count": 17,
     "metadata": {},
     "output_type": "execute_result"
    }
   ],
   "source": [
    "gain.sort_values(\"VALUE\",ascending=False).iloc[-1]"
   ]
  },
  {
   "cell_type": "markdown",
   "metadata": {},
   "source": [
    "The day with the largest loss was 09/26/2008"
   ]
  },
  {
   "cell_type": "code",
   "execution_count": 21,
   "metadata": {
    "collapsed": true
   },
   "outputs": [],
   "source": [
    "mgain=djia.resample(\"M\").first()\n",
    "mgain=mgain.shift(-1)-mgain\n",
    "mgain=mgain.dropna()"
   ]
  },
  {
   "cell_type": "code",
   "execution_count": 19,
   "metadata": {},
   "outputs": [
    {
     "data": {
      "text/plain": [
       "VALUE     1556.750000\n",
       "ROL30      626.351000\n",
       "ROL365      43.988384\n",
       "EXP30      688.259237\n",
       "EXP365      19.163880\n",
       "Name: 2015-10-31 00:00:00, dtype: float64"
      ]
     },
     "execution_count": 19,
     "metadata": {},
     "output_type": "execute_result"
    }
   ],
   "source": [
    "mgain.sort_values(\"VALUE\",ascending=False).iloc[0]"
   ]
  },
  {
   "cell_type": "markdown",
   "metadata": {},
   "source": [
    "The month with the most gain was October 2015"
   ]
  },
  {
   "cell_type": "code",
   "execution_count": 22,
   "metadata": {},
   "outputs": [
    {
     "data": {
      "text/plain": [
       "VALUE    -1539.850000\n",
       "ROL30     -620.333333\n",
       "ROL365      40.953616\n",
       "EXP30     -763.180607\n",
       "EXP365     -26.281647\n",
       "Name: 2015-08-31 00:00:00, dtype: float64"
      ]
     },
     "execution_count": 22,
     "metadata": {},
     "output_type": "execute_result"
    }
   ],
   "source": [
    "mgain.sort_values(\"VALUE\",ascending=False).iloc[-1]"
   ]
  },
  {
   "cell_type": "markdown",
   "metadata": {},
   "source": [
    "The month with the greatest loss was August 2015"
   ]
  },
  {
   "cell_type": "markdown",
   "metadata": {},
   "source": [
    "### Problem 7"
   ]
  },
  {
   "cell_type": "code",
   "execution_count": 16,
   "metadata": {},
   "outputs": [
    {
     "data": {
      "image/png": "[encoded data removed]",
      "text/plain": [
       "<matplotlib.figure.Figure at 0x14b890ccda0>"
      ]
     },
     "metadata": {},
     "output_type": "display_data"
    }
   ],
   "source": [
    "djia[\"ROL30\"]=djia.rolling(30).mean().values\n",
    "djia[\"ROL365\"]=djia[\"VALUE\"].rolling(365).mean().values\n",
    "djia[\"EXP30\"] = djia[\"VALUE\"].ewm(span=30).mean().values\n",
    "djia[\"EXP365\"] = djia[\"VALUE\"].ewm(span=365).mean().values\n",
    "\n",
    "djia.plot()\n",
    "plt.plot(djia[\"VALUE\"],linewidth=1,color='k')\n",
    "plt.legend(loc='lower right')\n",
    "plt.show()"
   ]
  }
 ],
 "metadata": {
  "anaconda-cloud": {},
  "kernelspec": {
   "display_name": "Python 3",
   "language": "python",
   "name": "python3"
  },
  "language_info": {
   "codemirror_mode": {
    "name": "ipython",
    "version": 3
   },
   "file_extension": ".py",
   "mimetype": "text/x-python",
   "name": "python",
   "nbconvert_exporter": "python",
   "pygments_lexer": "ipython3",
   "version": "3.6.1"
  }
 },
 "nbformat": 4,
 "nbformat_minor": 1
}
