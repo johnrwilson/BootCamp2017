{
 "cells": [
  {
   "cell_type": "code",
   "execution_count": 1,
   "metadata": {
    "collapsed": true
   },
   "outputs": [],
   "source": [
    "# import packages\n",
    "import matplotlib.pyplot as plt\n",
    "import numpy as np\n",
    "\n",
    "# to print plots inline\n",
    "%matplotlib inline\n",
    "\n",
    "# set out parameters\n",
    "rho = 0.7605\n",
    "mu = 0.0\n",
    "sigma_eps = 0.213\n",
    "\n",
    "# draw our shocks\n",
    "num_draws = 100000 # number of shocks to draw\n",
    "eps = np.random.normal(0.0, sigma_eps, size=(num_draws))\n",
    "\n",
    "# Compute z\n",
    "z = np.empty(num_draws)\n",
    "z[0] = 0.0 + eps[0]\n",
    "for i in range(1, num_draws):\n",
    "    z[i] = rho * z[i - 1] + (1 - rho) * mu + eps[i]\n"
   ]
  },
  {
   "cell_type": "code",
   "execution_count": 2,
   "metadata": {
    "collapsed": true
   },
   "outputs": [],
   "source": [
    "sigma_z = sigma_eps / ((1 - rho ** 2) ** (1 / 2))\n",
    "#print('Theoretical sigma_z = ', sigma_z)\n",
    "\n",
    "# from our simulation:\n",
    "sigma_z_simul = z.std()\n",
    "#print('Simulated sigma_z = ', sigma_z_simul)"
   ]
  },
  {
   "cell_type": "code",
   "execution_count": 3,
   "metadata": {},
   "outputs": [
    {
     "name": "stdout",
     "output_type": "stream",
     "text": [
      "Cut-off values =  [       -inf -0.40040229 -0.25084498 -0.14128994 -0.04582867  0.04582867\n",
      "  0.14128994  0.25084498  0.40040229         inf]\n"
     ]
    }
   ],
   "source": [
    "from scipy.stats import norm\n",
    "\n",
    "# Compute cut-off values\n",
    "N = 9  # number of grid points (will have one more cut-off point than this)\n",
    "z_cutoffs = (sigma_z * norm.ppf(np.arange(N + 1) / N)) + mu\n",
    "print('Cut-off values = ', z_cutoffs)"
   ]
  },
  {
   "cell_type": "code",
   "execution_count": 4,
   "metadata": {},
   "outputs": [
    {
     "name": "stdout",
     "output_type": "stream",
     "text": [
      "Grid points =  [-0.55913938 -0.32004072 -0.19425291 -0.09290094  0.          0.09290094\n",
      "  0.19425291  0.32004072  0.55913938]\n"
     ]
    }
   ],
   "source": [
    "# compute grid points for z\n",
    "z_grid = ((N * sigma_z * (norm.pdf((z_cutoffs[:-1] - mu) / sigma_z)\n",
    "                              - norm.pdf((z_cutoffs[1:] - mu) / sigma_z)))\n",
    "              + mu)\n",
    "print('Grid points = ', z_grid)"
   ]
  },
  {
   "cell_type": "code",
   "execution_count": 5,
   "metadata": {
    "collapsed": true
   },
   "outputs": [],
   "source": [
    "\"\"\"\n",
    "# import packages\n",
    "import scipy.integrate as integrate\n",
    "\n",
    "# define function that we will integrate\n",
    "def integrand(x, sigma_z, sigma_eps, rho, mu, z_j, z_jp1):\n",
    "    val = (np.exp((-1 * ((x - mu) ** 2)) / (2 * (sigma_z ** 2)))\n",
    "            * (norm.cdf((z_jp1 - (mu * (1 - rho)) - (rho * x)) / sigma_eps)\n",
    "               - norm.cdf((z_j - (mu * (1 - rho)) - (rho * x)) / sigma_eps)))\n",
    "    \n",
    "    return val\n",
    "\n",
    "# compute transition probabilities\n",
    "pi = np.empty((N, N))\n",
    "for i in range(N):\n",
    "    for j in range(N):\n",
    "        results = integrate.quad(integrand, z_cutoffs[i], z_cutoffs[i + 1],\n",
    "                                 args = (sigma_z, sigma_eps, rho, mu,\n",
    "                                         z_cutoffs[j], z_cutoffs[j + 1]))\n",
    "        pi[i,j] = (N / np.sqrt(2 * np.pi * sigma_z ** 2)) * results[0]\n",
    "        \n",
    "# print('Transition matrix = ', pi)\n",
    "# print('pi sums = ', pi.sum(axis=0), pi.sum(axis=1))\n",
    "\"\"\""
   ]
  },
  {
   "cell_type": "code",
   "execution_count": 26,
   "metadata": {},
   "outputs": [
    {
     "name": "stdout",
     "output_type": "stream",
     "text": [
      "[ 0.11111111  0.11111111  0.11111111  0.11111111  0.11111111  0.11111111\n",
      "  0.11111111  0.11111111  0.11111111]\n"
     ]
    }
   ],
   "source": [
    "#By the theory of Adda-Cooper methods, each value should have equal probability\n",
    "probs = 1./(len(z_grid))*np.ones(len(z_grid))"
   ]
  },
  {
   "cell_type": "code",
   "execution_count": 8,
   "metadata": {
    "collapsed": true
   },
   "outputs": [],
   "source": [
    "\"\"\"\n",
    "# Simulate the Markov process - will make this a function so can call later\n",
    "def sim_markov(z_grid, pi, num_draws):\n",
    "    # draw some random numbers on [0, 1]\n",
    "    u = np.random.uniform(size=num_draws)\n",
    "\n",
    "    # Do simulations\n",
    "    z_discrete = np.empty(num_draws)  # this will be a vector of values \n",
    "    # we land on in the discretized grid for z\n",
    "    N = z_grid.shape[0]\n",
    "    oldind = int(np.ceil((N - 1) / 2)) # set initial value to median of grid\n",
    "    z_discrete[0] = z_grid[oldind]  \n",
    "    for i in range(1, num_draws):\n",
    "        sum_p = 0\n",
    "        ind = 0\n",
    "        while sum_p < u[i]:\n",
    "            sum_p = sum_p + pi[ind, oldind]\n",
    "#             print('inds =  ', ind, oldind)\n",
    "            ind += 1\n",
    "        if ind > 0:\n",
    "            ind -= 1\n",
    "        z_discrete[i] = z_grid[ind]\n",
    "        oldind = ind\n",
    "                            \n",
    "    return z_discrete\n",
    "\n",
    "\n",
    "# Call simulation function to get simulated values\n",
    "z_discrete = sim_markov(z_grid, np.transpose(pi), num_draws)\n",
    "\n",
    "\n",
    "#We now have z values stored as z-grid and the \n",
    "#probability of each stored as z-discrete\n",
    "\"\"\""
   ]
  },
  {
   "cell_type": "code",
   "execution_count": 24,
   "metadata": {},
   "outputs": [
    {
     "name": "stdout",
     "output_type": "stream",
     "text": [
      "[ 1.+0.j]\n",
      "[[-0.33333333+0.j]\n",
      " [-0.33333333+0.j]\n",
      " [-0.33333333+0.j]\n",
      " [-0.33333333+0.j]\n",
      " [-0.33333333+0.j]\n",
      " [-0.33333333+0.j]\n",
      " [-0.33333333+0.j]\n",
      " [-0.33333333+0.j]\n",
      " [-0.33333333+0.j]]\n",
      "[[ 0.11111111]\n",
      " [ 0.11111111]\n",
      " [ 0.11111111]\n",
      " [ 0.11111111]\n",
      " [ 0.11111111]\n",
      " [ 0.11111111]\n",
      " [ 0.11111111]\n",
      " [ 0.11111111]\n",
      " [ 0.11111111]]\n"
     ]
    }
   ],
   "source": [
    "\"\"\"\n",
    "from scipy.sparse import linalg as sla\n",
    "eval, evec = sla.eigs(pi.T, k=1, which='LM')\n",
    "evec=(evec/np.sum(evec)).real\n",
    "\"\"\""
   ]
  },
  {
   "cell_type": "code",
   "execution_count": 6,
   "metadata": {
    "collapsed": true
   },
   "outputs": [],
   "source": [
    "# specify parameters\n",
    "alpha_k = 0.297\n",
    "alpha_l = 0.65\n",
    "delta = 0.154\n",
    "psi = 1.08\n",
    "w = 0.7\n",
    "r= 0.04\n",
    "z = 1\n",
    "betafirm = (1 / (1 + r))"
   ]
  },
  {
   "cell_type": "code",
   "execution_count": null,
   "metadata": {
    "collapsed": true
   },
   "outputs": [],
   "source": [
    "dens = 3\n",
    "# put in bounds here for the capital stock space\n",
    "kstar = ((((1 / betafirm - 1 + delta) * ((w / alpha_l) **\n",
    "                                         (alpha_l / (1 - alpha_l)))) /\n",
    "         (alpha_k * (z ** (1 / (1 - alpha_l))))) **\n",
    "         ((1 - alpha_l) / (alpha_k + alpha_l - 1)))\n",
    "kbar = 2*kstar\n",
    "lb_k = 0.001\n",
    "ub_k = kbar\n",
    "krat = np.log(lb_k / ub_k)\n",
    "numb = np.ceil(krat / np.log(1 - delta))\n",
    "K = np.zeros(int(numb * dens))\n",
    "# we'll create in a way where we pin down the upper bound - since\n",
    "# the distance will be small near the lower bound, we'll miss that by little\n",
    "for j in range(int(numb * dens)):\n",
    "    K[j] = ub_k * (1 - delta) ** (j / dens)\n",
    "kvec = K[::-1]\n",
    "sizek = kvec.shape[0]"
   ]
  },
  {
   "cell_type": "code",
   "execution_count": null,
   "metadata": {
    "collapsed": true
   },
   "outputs": [],
   "source": [
    "# operating profits, op\n",
    "op = np.mean(((1 - alpha_l) * ((alpha_l / w) ** (alpha_l / (1 - alpha_l))) *\n",
    "      ((kvec ** alpha_k) ** (1 / (1 - alpha_l)))))\n",
    "\n",
    "# firm cash flow, e\n",
    "e = np.zeros((sizek, sizek))\n",
    "for i in range(sizek):\n",
    "    for j in range(sizek):\n",
    "            e[i, j] = (op[i] - kvec[j] + ((1 - delta) * kvec[i]) -\n",
    "                       ((psi / 2) * ((kvec[j] - ((1 - delta) * kvec[i])) ** 2)\n",
    "                        / kvec[i]))"
   ]
  }
 ],
 "metadata": {
  "kernelspec": {
   "display_name": "Python 3",
   "language": "python",
   "name": "python3"
  },
  "language_info": {
   "codemirror_mode": {
    "name": "ipython",
    "version": 3
   },
   "file_extension": ".py",
   "mimetype": "text/x-python",
   "name": "python",
   "nbconvert_exporter": "python",
   "pygments_lexer": "ipython3",
   "version": "3.6.1"
  }
 },
 "nbformat": 4,
 "nbformat_minor": 2
}
