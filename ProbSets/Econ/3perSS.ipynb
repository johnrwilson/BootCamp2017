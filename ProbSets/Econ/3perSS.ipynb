{
 "cells": [
  {
   "cell_type": "markdown",
   "metadata": {},
   "source": [
    "# Problem 1"
   ]
  },
  {
   "cell_type": "code",
   "execution_count": 1,
   "metadata": {
    "collapsed": false
   },
   "outputs": [],
   "source": [
    "#Solve for the steady-state in 3-per OG model\n",
    "\n",
    "#Import libraries\n",
    "import numpy as np\n",
    "from matplotlib import pyplot as plt\n",
    "import scipy.optimize as opt\n",
    "%matplotlib inline\n",
    "\n",
    "#Household parameters\n",
    "nvec = np.array([1.0,1.0,0.2])\n",
    "yrs_live = 60\n",
    "S = 3.0\n",
    "beta_annual = 0.96\n",
    "beta = beta_annual ** (yrs_live / S)\n",
    "sigma = 3.\n",
    "\n",
    "#Firm's parameters\n",
    "alpha = 0.35\n",
    "A = 1.0\n",
    "delta_annual = 0.05\n",
    "delta = 1 - (1.-delta_annual)**(yrs_live/S)\n",
    " \n",
    "#Initialize functions which will be used later in the code\n",
    "def rfunc(K, L, params):\n",
    "    A, alpha, delta = params\n",
    "    r = alpha * A * ((L / K) ** (1-alpha)) - delta\n",
    "    return r\n",
    "\n",
    "def wfunc(K, L, params):\n",
    "    A, alpha = params\n",
    "    w = (1 - alpha) * A * ((K / L) ** alpha)\n",
    "    return w\n",
    "\n",
    "def muc1(n, w, r, b2, sigma):\n",
    "    c1 = n * w - b2\n",
    "    return c1 ** (-1. * sigma)\n",
    "\n",
    "def muc2(n, w, r, b2, b3, sigma):\n",
    "    c2 = n * w + (1. + r) * b2 - b3\n",
    "    return c2 ** (-1. * sigma)\n",
    "    \n",
    "def muc3(n, w, r, b2, b3, sigma):\n",
    "    c3 = n * w + (1. + r) * b3\n",
    "    return c3 ** (-1. * sigma)\n",
    "    \n",
    "#Calculate the steady state equilibrium by using a root finder of the Euler errors\n",
    "    \n",
    "def steady_state(b2b3, args):\n",
    "    beta, sigma, alpha, A, delta, nvec = args\n",
    "    b2, b3 = b2b3\n",
    "    K = np.sum(b2b3)\n",
    "    L = np.sum(nvec)\n",
    "    w = wfunc(K, L, (A, alpha))\n",
    "    r = rfunc(K, L, (A, alpha, delta))\n",
    "    MUc1 = muc1(nvec[0], w, r, b2, sigma)\n",
    "    MUc2 = muc2(nvec[1], w, r, b2, b3, sigma)\n",
    "    MUc3 = muc3(nvec[2], w, r, b2, b3, sigma)\n",
    "    error1 = MUc1 - beta * (1.+r) * MUc2\n",
    "    error2 = MUc2 - beta * (1.+r) * MUc3\n",
    "    return np.array([error1, error2])\n",
    "    \n",
    "\n",
    "sol = opt.root(steady_state, np.array([.1,.1]), \\\n",
    "               args = [beta, sigma, alpha, A, delta, nvec])"
   ]
  },
  {
   "cell_type": "code",
   "execution_count": 2,
   "metadata": {
    "collapsed": false
   },
   "outputs": [
    {
     "name": "stdout",
     "output_type": "stream",
     "text": [
      "Using annual beta = 0.96, results are as follows:\n",
      "c1 = 0.182412558356\n",
      "c2 = 0.209614907072\n",
      "c3 = 0.240873817365\n",
      "b2 = 0.0193127352392\n",
      "b3 = 0.058411590879\n",
      "w = 0.201725293596\n",
      "r = 2.43303025356\n",
      "\n",
      "\n"
     ]
    }
   ],
   "source": [
    "b2_bar, b3_bar = sol['x']\n",
    "K = np.sum(sol['x'])\n",
    "L = np.sum(nvec)\n",
    "w_bar = (1 - alpha) * A * ((K / L) ** alpha)\n",
    "r_bar = alpha * A * ((L / K) ** (1-alpha)) - delta\n",
    "c1 = nvec[0] * w_bar - b2_bar\n",
    "c2 = nvec[1] * w_bar + (1. + r_bar) * b2_bar - b3_bar\n",
    "c3 = nvec[2] * w_bar + (1. + r_bar) * b3_bar\n",
    "print \"Using annual beta = {}, results are as follows:\".format(beta_annual)\n",
    "print \"c1 = {}\".format(c1)\n",
    "print \"c2 = {}\".format(c2)\n",
    "print \"c3 = {}\".format(c3)\n",
    "print \"b2 = {}\".format(b2_bar)\n",
    "print \"b3 = {}\".format(b3_bar)\n",
    "print \"w = {}\".format(w_bar)\n",
    "print \"r = {}\\n\\n\".format(r_bar)"
   ]
  },
  {
   "cell_type": "markdown",
   "metadata": {},
   "source": [
    "# Problem 2"
   ]
  },
  {
   "cell_type": "markdown",
   "metadata": {},
   "source": [
    "Problem 2 is an extension of problem one. In order to see the effects of an increase in patience, or $\\beta$, $\\beta = 0.55$ is used instead of the value in problem one."
   ]
  },
  {
   "cell_type": "code",
   "execution_count": 3,
   "metadata": {
    "collapsed": false
   },
   "outputs": [],
   "source": [
    "beta1 = 0.55\n",
    "sol = opt.root(steady_state, np.array([.1,.1]), \\\n",
    "               args = [beta1, sigma, alpha, A, delta, nvec])"
   ]
  },
  {
   "cell_type": "code",
   "execution_count": 4,
   "metadata": {
    "collapsed": false
   },
   "outputs": [
    {
     "name": "stdout",
     "output_type": "stream",
     "text": [
      "Using period beta = 0.55, results are as follows:\n",
      "c1 = 0.195975352642\n",
      "c2 = 0.228615593799\n",
      "c3 = 0.266692158088\n",
      "b2 = 0.028176959268\n",
      "b3 = 0.0768655662396\n",
      "w = 0.22415231191\n",
      "r = 1.88635999915\n"
     ]
    }
   ],
   "source": [
    "b2, b3 = sol['x']\n",
    "K = np.sum(sol['x'])\n",
    "L = np.sum(nvec)\n",
    "w = (1 - alpha) * A * ((K / L) ** alpha)\n",
    "r = alpha * A * ((L / K) ** (1-alpha)) - delta\n",
    "c1 = nvec[0] * w - b2\n",
    "c2 = nvec[1] * w + (1. + r) * b2 - b3\n",
    "c3 = nvec[2] * w + (1. + r) * b3\n",
    "print \"Using period beta = {}, results are as follows:\".format(beta1)\n",
    "print \"c1 = {}\".format(c1)\n",
    "print \"c2 = {}\".format(c2)\n",
    "print \"c3 = {}\".format(c3)\n",
    "print \"b2 = {}\".format(b2)\n",
    "print \"b3 = {}\".format(b3)\n",
    "print \"w = {}\".format(w)\n",
    "print \"r = {}\".format(r)"
   ]
  },
  {
   "cell_type": "markdown",
   "metadata": {},
   "source": [
    "# Problem 3"
   ]
  },
  {
   "cell_type": "markdown",
   "metadata": {},
   "source": [
    "Problem 3 generates code necessary to solve the Transition Path Equilibrium for this OG model."
   ]
  },
  {
   "cell_type": "code",
   "execution_count": 17,
   "metadata": {
    "collapsed": false
   },
   "outputs": [],
   "source": [
    "\"\"\"\n",
    "Initialize parameters for the TPI method\n",
    "\n",
    "\"\"\"\n",
    "T = 20\n",
    "tol = 1e-9\n",
    "xi = 0.95\n",
    "b2_initial = 0.8*b2_bar\n",
    "b3_initial = 1.1*b3_bar\n",
    "K1 = b2_initial + b3_initial\n",
    "K_bar = b2_bar + b3_bar\n",
    "K = np.append(np.linspace(K1,K_bar,T),[K_bar])\n",
    "r = np.append(rfunc(K,L,(A,alpha,delta)),[r_bar]*4)\n",
    "w = np.append(wfunc(K,L,(A,alpha)),[w_bar]*4)\n",
    "b_args = [r, w, sigma, beta, nvec]\n",
    "\n",
    "def euler_error(b2b3,args):\n",
    "    b2, b3 = b2b3\n",
    "    r1, r2, w, w1, w2, sigma, beta, nvec = args\n",
    "    e1 = (nvec[0]*w-b2)**(-sigma) - beta * (1+r1)*((1+r1)*b2+nvec[1]*w1-b3)**(-sigma)\n",
    "    e2 = ((1+r1)*b2+nvec[1]*w1-b3)**(-sigma) - beta*(1+r2)*((1+r2)*b3+nvec[2]*w2)**(-sigma)\n",
    "    return np.array([e1,e2])\n",
    "\n",
    "def calcb3_init(b3,args):\n",
    "    b2,r,w,beta,sigma,nvec = args\n",
    "    return ((1+r[0])*b2[0]+w[0]-b3)**(-sigma) - beta*(1+r[1])*\\\n",
    "                                 ((1+r[1])*b3-nvec[2]*w[1])**(-sigma)\n",
    "\n",
    "def calc_b(b2_initial, b3_initial, b_args):\n",
    "    r, w, sigma, beta, nvec = b_args\n",
    "    b2 = np.zeros_like(K)\n",
    "    b3 = np.zeros_like(K)\n",
    "    b2[0] = b2_initial\n",
    "    b3[0] = b3_initial\n",
    "    sol = opt.root(calcb3_init,0.1,[b2,r,w,beta,sigma,nvec])\n",
    "    b3[1] = sol.x\n",
    "    \n",
    "    for i in xrange(1,T+1):\n",
    "        sol = opt.root(euler_error,np.array([0.1,0.1]),\\\n",
    "                       args = [r[i], r[i+1], w[i-1], w[i], w[i+1], sigma, beta, nvec])\n",
    "        if i != T:\n",
    "            b2[i], b3[i+1] = sol['x']\n",
    "        else:\n",
    "            b2[i] = sol.x[0]\n",
    "        if not sol.success:\n",
    "            print i\n",
    "            print \"FAIL\"\n",
    "    #print b2[-2]\n",
    "    #print b3[-3]\n",
    "    return (b2+b3)"
   ]
  },
  {
   "cell_type": "code",
   "execution_count": 18,
   "metadata": {
    "collapsed": false
   },
   "outputs": [],
   "source": [
    "K2 = calc_b(b2_initial, b3_initial, [r,w,sigma,beta,nvec])\n",
    "iters=1\n",
    "while np.linalg.norm(K2-K) > tol:\n",
    "    iters+=1\n",
    "    K=xi*np.copy(K2)+(1-xi)*K\n",
    "    r = np.append(rfunc(K,L,(A,alpha,delta)),[r_bar]*4)\n",
    "    w = np.append(wfunc(K,L,(A,alpha)),[w_bar]*4)\n",
    "    b_args = [r, w, sigma, beta, nvec]\n",
    "    K2 = calc_b(b2_initial, b3_initial, b_args)\n",
    "    #print iters\n",
    "K = np.copy(K2)"
   ]
  },
  {
   "cell_type": "code",
   "execution_count": 24,
   "metadata": {
    "collapsed": false
   },
   "outputs": [
    {
     "name": "stdout",
     "output_type": "stream",
     "text": [
      "20\n"
     ]
    }
   ],
   "source": [
    "print iters"
   ]
  },
  {
   "cell_type": "markdown",
   "metadata": {},
   "source": [
    "Convergence required a total of 20 iterations when $\\xi = 0.95$"
   ]
  },
  {
   "cell_type": "markdown",
   "metadata": {},
   "source": [
    "# Problem 4"
   ]
  },
  {
   "cell_type": "code",
   "execution_count": 20,
   "metadata": {
    "collapsed": false
   },
   "outputs": [
    {
     "data": {
      "image/png": "[encoded data removed]",
      "text/plain": [
       "<matplotlib.figure.Figure at 0x8821908>"
      ]
     },
     "metadata": {},
     "output_type": "display_data"
    }
   ],
   "source": [
    "plt.plot(K,)\n",
    "plt.title(\"Capital stock path over twenty periods\")\n",
    "plt.xlabel(\"Time period\")\n",
    "plt.ylabel(\"K\")\n",
    "plt.savefig('K_path.png')\n",
    "plt.show()"
   ]
  },
  {
   "cell_type": "markdown",
   "metadata": {},
   "source": [
    "It took the economy approximately 14 periods to reach steady state equilibrium."
   ]
  },
  {
   "cell_type": "code",
   "execution_count": 22,
   "metadata": {
    "collapsed": false
   },
   "outputs": [
    {
     "name": "stdout",
     "output_type": "stream",
     "text": [
      "[  1.97861204e-03   1.66516823e-02   3.76855734e-03   4.42647858e-03\n",
      "   1.74271917e-03   1.36817372e-03   6.77369505e-04   4.54546785e-04\n",
      "   2.49011393e-04   1.56204500e-04   8.95282163e-05   5.45133705e-05\n",
      "   3.18815458e-05   1.91566151e-05   1.13050424e-05   6.75264807e-06\n",
      "   4.00106245e-06   2.38352523e-06   1.41476885e-06   8.41268728e-07\n",
      "   4.87740260e-07]\n"
     ]
    }
   ],
   "source": [
    "print abs(K-K_bar)"
   ]
  }
 ],
 "metadata": {
  "kernelspec": {
   "display_name": "Python [Root]",
   "language": "python",
   "name": "Python [Root]"
  },
  "language_info": {
   "codemirror_mode": {
    "name": "ipython",
    "version": 2
   },
   "file_extension": ".py",
   "mimetype": "text/x-python",
   "name": "python",
   "nbconvert_exporter": "python",
   "pygments_lexer": "ipython2",
   "version": "2.7.12"
  }
 },
 "nbformat": 4,
 "nbformat_minor": 0
}
