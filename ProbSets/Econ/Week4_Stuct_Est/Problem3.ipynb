{
 "cells": [
  {
   "cell_type": "markdown",
   "metadata": {},
   "source": [
    "# Problem Set 4 - Structural Estimation"
   ]
  },
  {
   "cell_type": "markdown",
   "metadata": {},
   "source": [
    "## John Wilson\n",
    "### July 15, 2017"
   ]
  },
  {
   "cell_type": "code",
   "execution_count": 1,
   "metadata": {
    "collapsed": true
   },
   "outputs": [],
   "source": [
    "import numpy as np\n",
    "import scipy.stats as sts\n",
    "from scipy.special import gamma, beta\n",
    "from matplotlib import pyplot as plt\n",
    "import scipy.optimize as opt\n",
    "import scipy.integrate as integrate\n",
    "import numpy.linalg as lin\n",
    "%matplotlib inline"
   ]
  },
  {
   "cell_type": "markdown",
   "metadata": {},
   "source": [
    "## Problem 3"
   ]
  },
  {
   "cell_type": "code",
   "execution_count": 2,
   "metadata": {
    "collapsed": true
   },
   "outputs": [],
   "source": [
    "data = np.loadtxt(\"data/usincmoms.txt\")\n",
    "midpoints = data[:,1]/1000"
   ]
  },
  {
   "cell_type": "markdown",
   "metadata": {},
   "source": [
    "### Part a)"
   ]
  },
  {
   "cell_type": "code",
   "execution_count": 3,
   "metadata": {
    "scrolled": false
   },
   "outputs": [
    {
     "data": {
      "image/png": "[encoded data removed]",
      "text/plain": [
       "<matplotlib.figure.Figure at 0x21f1c963240>"
      ]
     },
     "metadata": {},
     "output_type": "display_data"
    }
   ],
   "source": [
    "bins = data[:-2,1]/1000 - 2.5\n",
    "bins=np.append(bins,np.array([200,250,350]))\n",
    "weights = np.copy(data[:,0])\n",
    "weights_adj = np.copy(weights)\n",
    "weights_adj[-2] /= 10\n",
    "weights_adj[-1] /= 20\n",
    "vals, bins, fig = plt.hist(data[:,1]/1000,bins = bins, weights = weights_adj)\n",
    "plt.show()"
   ]
  },
  {
   "cell_type": "markdown",
   "metadata": {},
   "source": [
    "### Part b)"
   ]
  },
  {
   "cell_type": "code",
   "execution_count": 4,
   "metadata": {
    "collapsed": true
   },
   "outputs": [],
   "source": [
    "# Divide the bins into two lists - left limits and right limits - to\n",
    "# facilitate moment calculations\n",
    "left = bins[:-1]\n",
    "right = bins[1:]\n",
    "n = len(data)\n",
    "\n",
    "def get_model_moments(mu, sigma):\n",
    "    fx = lambda x: sts.lognorm.cdf(x, sigma, scale = np.exp(mu))\n",
    "    moments = np.empty(n)\n",
    "    for i in range(n):\n",
    "        if i == n-1:\n",
    "            moments[i] = fx(np.inf) - fx(left[-1])\n",
    "        else:\n",
    "            moments[i] = fx(right[i]) - fx(left[i])\n",
    "    return moments\n",
    "\n",
    "def error_vec(xvals, mu, sigma):\n",
    "    m_moments = get_model_moments(mu, sigma)\n",
    "    return m_moments - xvals\n",
    "\n",
    "def criterion(params, weights):\n",
    "    mu, sigma = params\n",
    "    W = np.diag(weights)\n",
    "    err = error_vec(weights, mu, sigma)\n",
    "    crit_val = np.dot(np.dot(err, W), err)\n",
    "    return crit_val"
   ]
  },
  {
   "cell_type": "code",
   "execution_count": 5,
   "metadata": {
    "collapsed": true
   },
   "outputs": [],
   "source": [
    "# Initialize values for mu and sigma starting guesses\n",
    "mu_init = np.log(np.sum(midpoints * weights))\n",
    "sigma_init = 5\n",
    "init_vec = np.array([mu_init, sigma_init])\n",
    "results = opt.minimize(criterion, init_vec, \\\n",
    "                       args = weights, method = 'L-BFGS-B',\\\n",
    "                       bounds=((1e-10, None), (1e-10, None)))"
   ]
  },
  {
   "cell_type": "code",
   "execution_count": 6,
   "metadata": {},
   "outputs": [
    {
     "name": "stdout",
     "output_type": "stream",
     "text": [
      "mu_GMM= 3.90970829092  sigma_GMM= 0.954698944826\n"
     ]
    },
    {
     "data": {
      "image/png": "[encoded data removed]",
      "text/plain": [
       "<matplotlib.figure.Figure at 0x21f1cd93f98>"
      ]
     },
     "metadata": {},
     "output_type": "display_data"
    }
   ],
   "source": [
    "mu_GMM, sigma_GMM = results.x\n",
    "crit_ln = results.fun\n",
    "print(\"mu_GMM=\",mu_GMM, \" sigma_GMM=\",sigma_GMM)\n",
    "fxln = lambda x: sts.lognorm.cdf(x, sigma_GMM, scale = np.exp(mu_GMM))\n",
    "moments_ln = np.empty(n)\n",
    "for i in range(n):\n",
    "    if i == n-1:\n",
    "        moments_ln[i] = fxln(np.inf) - fxln(left[-1])\n",
    "    else:\n",
    "        moments_ln[i] = fxln(right[i]) - fxln(left[i])\n",
    "moments_ln[-1] /= 20\n",
    "moments_ln[-2] /= 10\n",
    "vals, bins, fig = plt.hist(data[:,1]/1000,bins = bins, weights = weights_adj)\n",
    "plt.plot(midpoints,moments_ln)\n",
    "plt.show()"
   ]
  },
  {
   "cell_type": "markdown",
   "metadata": {},
   "source": [
    "### Part c)"
   ]
  },
  {
   "cell_type": "code",
   "execution_count": 7,
   "metadata": {
    "collapsed": true
   },
   "outputs": [],
   "source": [
    "def gamma_pdf(xvals, alpha, beta):\n",
    "    G = gamma(alpha)\n",
    "    return xvals ** (alpha - 1) * np.exp(-xvals / beta) / (G * beta ** alpha)\n",
    "\n",
    "def get_model_moments_GA(alpha, beta):\n",
    "    fx = lambda x: sts.gamma.cdf(x, alpha, scale=beta)\n",
    "    moments = np.empty(n)\n",
    "    for i in range(n):\n",
    "        if i == n-1:\n",
    "            moments[i] = fx(np.inf) - fx(left[-1])\n",
    "        else:\n",
    "            moments[i] = fx(right[i]) - fx(left[i])\n",
    "    return moments\n",
    "\n",
    "def error_vec_GA(xvals, alpha, beta):\n",
    "    m_moments = get_model_moments_GA(alpha, beta)\n",
    "    return m_moments - xvals\n",
    "\n",
    "def criterion_GA(params, *args):\n",
    "    alpha, beta = params\n",
    "    weights, W = args\n",
    "    err = error_vec_GA(weights, alpha, beta)\n",
    "    err = err.reshape((42,1))\n",
    "    crit_val = np.dot(np.dot(err.T, W), err)\n",
    "    return crit_val"
   ]
  },
  {
   "cell_type": "code",
   "execution_count": 8,
   "metadata": {
    "scrolled": true
   },
   "outputs": [],
   "source": [
    "alpha_init = 3\n",
    "beta_init = 20\n",
    "W = np.diag(weights)\n",
    "init_vec = np.array([alpha_init, beta_init])\n",
    "results = opt.minimize(criterion_GA, init_vec, \\\n",
    "                       args = (weights, W), method = 'L-BFGS-B',\\\n",
    "                       bounds=((None, None), (1e-10, None)))"
   ]
  },
  {
   "cell_type": "code",
   "execution_count": 9,
   "metadata": {},
   "outputs": [
    {
     "name": "stdout",
     "output_type": "stream",
     "text": [
      "alpha_GMM= 1.50411195985  beta_GMM= 41.181090293\n"
     ]
    },
    {
     "data": {
      "image/png": "[encoded data removed]",
      "text/plain": [
       "<matplotlib.figure.Figure at 0x21f1d04ddd8>"
      ]
     },
     "metadata": {},
     "output_type": "display_data"
    }
   ],
   "source": [
    "alpha_GMM, beta_GMM = results.x\n",
    "crit_gamma = results.fun\n",
    "print(\"alpha_GMM=\",alpha_GMM, \" beta_GMM=\",beta_GMM)\n",
    "fx = lambda x: sts.gamma.cdf(x, alpha_GMM, scale=beta_GMM)\n",
    "moments_gamma = np.empty(len(bins)-1)\n",
    "for i in range(n):\n",
    "    if i == n-1:\n",
    "        moments_gamma[i] = fx(np.inf) - fx(left[-1])\n",
    "    else:\n",
    "        moments_gamma[i] = fx(right[i]) - fx(left[i])\n",
    "moments_gamma[-1] /= 20\n",
    "moments_gamma[-2] /= 10\n",
    "vals, bins, fig = plt.hist(data[:,1]/1000,bins = bins, weights = weights_adj)\n",
    "plt.plot(midpoints,moments_gamma)\n",
    "plt.show()"
   ]
  },
  {
   "cell_type": "markdown",
   "metadata": {},
   "source": [
    "### Part d)"
   ]
  },
  {
   "cell_type": "code",
   "execution_count": 10,
   "metadata": {},
   "outputs": [
    {
     "data": {
      "image/png": "[encoded data removed]",
      "text/plain": [
       "<matplotlib.figure.Figure at 0x21f1cffb9e8>"
      ]
     },
     "metadata": {},
     "output_type": "display_data"
    }
   ],
   "source": [
    "vals, bins, fig = plt.hist(data[:,1]/1000,bins = bins, weights = weights_adj)\n",
    "plt.plot(midpoints,moments_gamma, label='Gamma distribution')\n",
    "plt.plot(midpoints,moments_ln, label = 'Lognormal distribution')\n",
    "plt.legend(loc = 'upper right')\n",
    "plt.show()"
   ]
  },
  {
   "cell_type": "markdown",
   "metadata": {},
   "source": [
    "Since both distributions are using the same weighting matrix under this model, a precise way to tell which is the best fit is to simply check the value of the criterion function, which is $e^TWe$. The distribution with the lowest criterion value is the best fitting distribution."
   ]
  },
  {
   "cell_type": "code",
   "execution_count": 11,
   "metadata": {},
   "outputs": [
    {
     "name": "stdout",
     "output_type": "stream",
     "text": [
      "The criterion value for lognormal distribution is:  5.42286946083e-05\n",
      "The criterion value for gamma distribution is:  [[  1.43637196e-05]]\n"
     ]
    }
   ],
   "source": [
    "print(\"The criterion value for lognormal distribution is: \", crit_ln)\n",
    "print(\"The criterion value for gamma distribution is: \", crit_gamma)"
   ]
  },
  {
   "cell_type": "markdown",
   "metadata": {
    "collapsed": true
   },
   "source": [
    "The gamma distribution is a better fit according to the measurements employed by GMM."
   ]
  },
  {
   "cell_type": "markdown",
   "metadata": {},
   "source": [
    "### Part e)"
   ]
  },
  {
   "cell_type": "code",
   "execution_count": 12,
   "metadata": {},
   "outputs": [],
   "source": [
    "err = error_vec_GA(weights, alpha_GMM, beta_GMM)\n",
    "err = err.reshape((42,1))\n",
    "VCV2 = np.dot(err, err.T) / weights.shape[0]\n",
    "# Use the pseudo-inverse calculated by SVD because VCV2 is ill-conditioned\n",
    "W_hat2 = lin.pinv(VCV2)"
   ]
  },
  {
   "cell_type": "code",
   "execution_count": 13,
   "metadata": {},
   "outputs": [],
   "source": [
    "alpha_init = alpha_GMM\n",
    "beta_init = beta_GMM\n",
    "init_vec = np.array([alpha_init, beta_init])\n",
    "results_2 = opt.minimize(criterion_GA, init_vec, \\\n",
    "                       args = (weights, W_hat2), method = 'L-BFGS-B',\\\n",
    "                       bounds=((None, None), (1e-15, None)))"
   ]
  },
  {
   "cell_type": "code",
   "execution_count": 14,
   "metadata": {},
   "outputs": [
    {
     "name": "stdout",
     "output_type": "stream",
     "text": [
      "alpha_GMM2= 2.2298403687  beta_GMM2= 41.387536019\n"
     ]
    },
    {
     "data": {
      "image/png": "[encoded data removed]",
      "text/plain": [
       "<matplotlib.figure.Figure at 0x21f1ceff4a8>"
      ]
     },
     "metadata": {},
     "output_type": "display_data"
    }
   ],
   "source": [
    "alpha_GMM2, beta_GMM2 = results_2.x\n",
    "crit_gamma = results.fun\n",
    "print(\"alpha_GMM2=\",alpha_GMM2, \" beta_GMM2=\",beta_GMM2)\n",
    "fx2 = lambda x: sts.gamma.cdf(x, alpha_GMM2, scale=beta_GMM2)\n",
    "moments_gamma2 = np.empty(len(bins)-1)\n",
    "for i in range(n):\n",
    "    if i == n-1:\n",
    "        moments_gamma2[i] = fx2(np.inf) - fx2(left[-1])\n",
    "    else:\n",
    "        moments_gamma2[i] = fx2(right[i]) - fx2(left[i])\n",
    "moments_gamma2[-1] /= 20\n",
    "moments_gamma2[-2] /= 10\n",
    "vals, bins, fig = plt.hist(data[:,1]/1000,bins = bins, weights = weights_adj)\n",
    "plt.plot(midpoints,moments_gamma2)\n",
    "plt.show()"
   ]
  },
  {
   "cell_type": "markdown",
   "metadata": {},
   "source": [
    "The value for alpha changed a bit, but the value for beta stayed about the same is it was. To compare it is probably best done graphically. You can't compare the value of the criterion functions directly because different weighting matrices are used."
   ]
  }
 ],
 "metadata": {
  "kernelspec": {
   "display_name": "Python 3",
   "language": "python",
   "name": "python3"
  },
  "language_info": {
   "codemirror_mode": {
    "name": "ipython",
    "version": 3
   },
   "file_extension": ".py",
   "mimetype": "text/x-python",
   "name": "python",
   "nbconvert_exporter": "python",
   "pygments_lexer": "ipython3",
   "version": "3.6.1"
  }
 },
 "nbformat": 4,
 "nbformat_minor": 2
}
