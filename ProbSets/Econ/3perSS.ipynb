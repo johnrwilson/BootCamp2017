{
 "cells": [
  {
   "cell_type": "code",
   "execution_count": null,
   "metadata": {
    "collapsed": false
   },
   "outputs": [],
   "source": [
    "#Solve for the steady-state in 3-per OG model\n",
    "\n",
    "#Import libraries\n",
    "import numpy as np\n",
    "from matplotlib import pyplot as plt\n",
    "import scipy.optimize as opt\n",
    "\n",
    "#Household parameters\n",
    "nvec = np.array([1.0,1.0,0.2])\n",
    "yrs_live = 60\n",
    "S = 3.0\n",
    "beta_annual = 0.96\n",
    "beta = beta_annual ** (yrs_live / S)\n",
    "sigma = 3.\n",
    "\n",
    "#Firm's parameters\n",
    "alpha = 0.35\n",
    "A = 1.0\n",
    "delta_annual = 0.05\n",
    "delta = 1 - (1.-delta_annual)**(yrs_live/S)\n",
    " \n",
    "\n",
    "def rfunc(K, L, params):\n",
    "    A, alpha, delta = params\n",
    "    r = alpha * A * ((L / K) ** (1-alpha)) - delta\n",
    "    return r\n",
    "\n",
    "def wfunc(K, L, params):\n",
    "    A, alpha = params\n",
    "    w = (1 - alpha) * A * ((K / L) ** alpha)\n",
    "    return w\n",
    "\n",
    "def muc1(n, w, r, b2, sigma):\n",
    "    c1 = n * w - b2\n",
    "    return c1 ** (-1. * sigma)\n",
    "\n",
    "def muc2(n, w, r, b2, b3, sigma):\n",
    "    c2 = n * w + (1. + r) * b2 - b3\n",
    "    return c2 ** (-1. * sigma)\n",
    "    \n",
    "def muc3(n, w, r, b2, b3, sigma):\n",
    "    c3 = n * w + (1. + r) * b3\n",
    "    return c3 ** (-1. * sigma)\n",
    "    \n",
    "def steady_state(b2b3, args):\n",
    "    beta, sigma, alpha, A, delta, nvec = args\n",
    "    b2, b3 = b2b3\n",
    "    K = np.sum(b2b3)\n",
    "    L = np.sum(nvec)\n",
    "    w = wfunc(K, L, (A, alpha))\n",
    "    r = rfunc(K, L, (A, alpha, delta))\n",
    "    MUc1 = muc1(nvec[0], w, r, b2, sigma)\n",
    "    MUc2 = muc2(nvec[1], w, r, b2, b3, sigma)\n",
    "    MUc3 = muc3(nvec[2], w, r, b2, b3, sigma)\n",
    "    error1 = MUc1 - beta * (1.+r) * MUc2\n",
    "    error2 = MUc2 - beta * (1.+r) * MUc3\n",
    "    return np.array([error1, error2])\n",
    "    \n",
    "\n",
    "sol = opt.root(steady_state, np.array([.1,.1]), \\\n",
    "               args = [beta, sigma, alpha, A, delta, nvec])"
   ]
  },
  {
   "cell_type": "code",
   "execution_count": null,
   "metadata": {
    "collapsed": false
   },
   "outputs": [],
   "source": [
    "b2_bar, b3_bar = sol['x']\n",
    "K = np.sum(sol['x'])\n",
    "L = np.sum(nvec)\n",
    "w = (1 - alpha) * A * ((K / L) ** alpha)\n",
    "r = alpha * A * ((L / K) ** (1-alpha)) - delta\n",
    "c1 = nvec[0] * w - b2\n",
    "c2 = nvec[1] * w + (1. + r) * b2 - b3\n",
    "c3 = nvec[2] * w + (1. + r) * b3\n",
    "print \"c1 = {}\".format(c1)\n",
    "print \"c2 = {}\".format(c2)\n",
    "print \"c3 = {}\".format(c3)\n",
    "print \"b2 = {}\".format(b2_bar)\n",
    "print \"b3 = {}\".format(b3_bar)\n",
    "print \"w = {}\".format(w)\n",
    "print \"r = {}\".format(r)"
   ]
  },
  {
   "cell_type": "code",
   "execution_count": null,
   "metadata": {
    "collapsed": false
   },
   "outputs": [],
   "source": [
    "beta1 = 0.55\n",
    "sol = opt.root(steady_state, np.array([.1,.1]), \\\n",
    "               args = [beta1, sigma, alpha, A, delta, nvec])"
   ]
  },
  {
   "cell_type": "code",
   "execution_count": null,
   "metadata": {
    "collapsed": false
   },
   "outputs": [],
   "source": [
    "sol"
   ]
  },
  {
   "cell_type": "code",
   "execution_count": null,
   "metadata": {
    "collapsed": false
   },
   "outputs": [],
   "source": [
    "b2, b3 = sol['x']\n",
    "K = np.sum(sol['x'])\n",
    "L = np.sum(nvec)\n",
    "w = (1 - alpha) * A * ((K / L) ** alpha)\n",
    "r = alpha * A * ((L / K) ** (1-alpha)) - delta\n",
    "c1 = nvec[0] * w - b2\n",
    "c2 = nvec[1] * w + (1. + r) * b2 - b3\n",
    "c3 = nvec[2] * w + (1. + r) * b3\n",
    "print \"c1 = {}\".format(c1)\n",
    "print \"c2 = {}\".format(c2)\n",
    "print \"c3 = {}\".format(c3)\n",
    "print \"b2 = {}\".format(b2)\n",
    "print \"b3 = {}\".format(b3)\n",
    "print \"w = {}\".format(w)\n",
    "print \"r = {}\".format(r)"
   ]
  },
  {
   "cell_type": "markdown",
   "metadata": {},
   "source": [
    "The values encountered are $$c_1 = 0.1959\\\\\\bar{r} = 1.8863$$ These values are encountered using $u'(c)=\\beta u'(c) (1+\\bar{r})$"
   ]
  },
  {
   "cell_type": "code",
   "execution_count": null,
   "metadata": {
    "collapsed": true
   },
   "outputs": [],
   "source": [
    "\"\"\"\n",
    "Initialize parameters for the TPI method\n",
    "\n",
    "\"\"\"\n",
    "T = 25\n",
    "\n",
    "\n",
    "\n",
    "gen_K(T,K1,K_bar):\n",
    "    return np.linspace(K1,K_bar,T)\n"
   ]
  }
 ],
 "metadata": {
  "kernelspec": {
   "display_name": "Python [Root]",
   "language": "python",
   "name": "Python [Root]"
  },
  "language_info": {
   "codemirror_mode": {
    "name": "ipython",
    "version": 2
   },
   "file_extension": ".py",
   "mimetype": "text/x-python",
   "name": "python",
   "nbconvert_exporter": "python",
   "pygments_lexer": "ipython2",
   "version": "2.7.12"
  }
 },
 "nbformat": 4,
 "nbformat_minor": 0
}
