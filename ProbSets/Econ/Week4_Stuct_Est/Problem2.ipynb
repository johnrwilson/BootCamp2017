{
 "cells": [
  {
   "cell_type": "markdown",
   "metadata": {},
   "source": [
    "# Problem Set 4 - Structural Estimation"
   ]
  },
  {
   "cell_type": "markdown",
   "metadata": {},
   "source": [
    "## John Wilson\n",
    "### July 15, 2017"
   ]
  },
  {
   "cell_type": "code",
   "execution_count": 1,
   "metadata": {
    "collapsed": true
   },
   "outputs": [],
   "source": [
    "import numpy as np\n",
    "import scipy.stats as sts\n",
    "from scipy.special import gamma, beta\n",
    "from matplotlib import pyplot as plt\n",
    "import scipy.optimize as opt\n",
    "import scipy.integrate as integrate\n",
    "%matplotlib notebook"
   ]
  },
  {
   "cell_type": "markdown",
   "metadata": {},
   "source": [
    "## Problem 2"
   ]
  },
  {
   "cell_type": "markdown",
   "metadata": {},
   "source": [
    "### Part a)"
   ]
  },
  {
   "cell_type": "code",
   "execution_count": 2,
   "metadata": {
    "collapsed": true
   },
   "outputs": [],
   "source": [
    "data = np.genfromtxt('data/MacroSeries.txt', delimiter=',')\n",
    "c = data[:,0]\n",
    "k = data[:,1]\n",
    "w = data[:,2]\n",
    "r = data[:,3]"
   ]
  },
  {
   "cell_type": "code",
   "execution_count": 3,
   "metadata": {},
   "outputs": [],
   "source": [
    "def zpdf(z, rho, mu, sigma):\n",
    "    mean = rho * z[:-1] + (1 - rho) * mu\n",
    "    mean = np.append(mu, mean)\n",
    "    pdf_vals    = ((1/(sigma * np.sqrt(2 * np.pi)) *\n",
    "                    np.exp( - (z - mean)**2 / (2 * sigma**2))))\n",
    "    return pdf_vals\n",
    "\n",
    "def log_lik_norm(alpha, rho, mu, sigma, w, k):\n",
    "    z = np.log(w) - np.log(1 - alpha) - alpha * np.log(k)\n",
    "    pdf_vals = zpdf(z, rho, mu, sigma)\n",
    "    pdf_vals[np.isclose(pdf_vals, np.zeros_like(pdf_vals), atol=1e-25)] = 1e-24\n",
    "    ln_pdf_vals = np.log(pdf_vals)\n",
    "    return ln_pdf_vals.sum()\n",
    "\n",
    "def crit(params, *args):\n",
    "    alpha, rho, mu, sigma = params\n",
    "    w, k = args\n",
    "    return -1 * log_lik_norm(alpha, rho, mu, sigma, w, k)"
   ]
  },
  {
   "cell_type": "code",
   "execution_count": 4,
   "metadata": {},
   "outputs": [
    {
     "name": "stdout",
     "output_type": "stream",
     "text": [
      "alpha_MLE= 0.457484260467  rho_MLE= 0.720517391754  mu_MLE= 9.52316706261  sigma_MLE= 0.0919960982288\n",
      "Function value:  96.7069080296\n",
      "[[  5.98511631e+00  -5.59097550e+00  -8.43732369e+01  -8.16761076e-01]\n",
      " [ -5.59097550e+00   5.86626644e+00   7.99135120e+01   1.20481280e+00]\n",
      " [ -8.43732369e+01   7.99135120e+01   1.19133648e+03   1.22810578e+01]\n",
      " [ -8.16761076e-01   1.20481280e+00   1.22810578e+01   4.20200668e-01]]\n"
     ]
    }
   ],
   "source": [
    "#Define initial guesses for each parameter\n",
    "alpha_init = .9\n",
    "rho_init = 0.5\n",
    "mu_init = 15\n",
    "sigma_init = 15\n",
    "params_init = np.array([alpha_init, rho_init, mu_init, sigma_init])\n",
    "results = opt.minimize(crit, params_init, args=(w, k),\n",
    "                       method = 'L-BFGS-B', bounds = ((1e-10, 1 - 1e-10), \\\n",
    "                                                      (-1 + 1e-10, 1 - 1e-10),\\\n",
    "                                                     (1e-10, None), (1e-10, None)))\n",
    "                       \n",
    "alpha_MLE, rho_MLE, mu_MLE, sigma_MLE = results.x\n",
    "likelihood_MLE = -results.fun\n",
    "print('alpha_MLE=', alpha_MLE, ' rho_MLE=', rho_MLE, ' mu_MLE=', \\\n",
    "      mu_MLE, ' sigma_MLE=', sigma_MLE)\n",
    "print(\"Function value: \", likelihood_MLE)\n",
    "print(results.hess_inv.todense())"
   ]
  },
  {
   "cell_type": "markdown",
   "metadata": {},
   "source": [
    "### Part b)"
   ]
  },
  {
   "cell_type": "code",
   "execution_count": 5,
   "metadata": {
    "collapsed": true
   },
   "outputs": [],
   "source": [
    "def log_lik_norm_r(alpha, rho, mu, sigma, r, k):\n",
    "    z = np.log(r) - np.log(alpha) - (alpha- 1) * np.log(k)\n",
    "    pdf_vals = zpdf(z, rho, mu, sigma)\n",
    "    pdf_vals[np.isclose(pdf_vals, np.zeros_like(pdf_vals), atol=1e-25)] = 1e-24\n",
    "    ln_pdf_vals = np.log(pdf_vals)\n",
    "    return ln_pdf_vals.sum()\n",
    "\n",
    "def crit_r(params, *args):\n",
    "    alpha, rho, mu, sigma = params\n",
    "    r, k = args\n",
    "    return -1 * log_lik_norm_r(alpha, rho, mu, sigma, r, k)"
   ]
  },
  {
   "cell_type": "code",
   "execution_count": 6,
   "metadata": {},
   "outputs": [
    {
     "name": "stdout",
     "output_type": "stream",
     "text": [
      "alpha_MLE= 0.457471361248  rho_MLE= 0.720517186549  mu_MLE= 9.37109997912  sigma_MLE= 0.0919969067217\n",
      "Function value:  96.7069080025\n",
      "[[  4.90897407e+01  -1.40790443e+02  -8.86624846e+02   9.13744126e-01]\n",
      " [ -1.40790443e+02   4.25011928e+02   2.54104974e+03  -4.59996527e+00]\n",
      " [ -8.86624846e+02   2.54104974e+03   1.60137585e+04  -1.63342458e+01]\n",
      " [  9.13744126e-01  -4.59996527e+00  -1.63342458e+01   2.02760706e-01]]\n"
     ]
    }
   ],
   "source": [
    "#Define initial guesses for each parameter\n",
    "alpha_init = .5\n",
    "rho_init = 1\n",
    "mu_init = 15\n",
    "sigma_init = 15\n",
    "params_init = np.array([alpha_init, rho_init, mu_init, sigma_init])\n",
    "results = opt.minimize(crit_r, params_init, args=(r, k),\n",
    "                       method = 'L-BFGS-B', bounds = ((1e-10, 1 - 1e-10), \\\n",
    "                                                      (-1 + 1e-10, 1 - 1e-10),\\\n",
    "                                                     (1e-10, None), (1e-10, None)))\n",
    "                       \n",
    "alpha_MLE, rho_MLE, mu_MLE, sigma_MLE = results.x\n",
    "likelihood_MLE = -results.fun\n",
    "print('alpha_MLE=', alpha_MLE, ' rho_MLE=', rho_MLE, ' mu_MLE=', \\\n",
    "      mu_MLE, ' sigma_MLE=', sigma_MLE)\n",
    "print(\"Function value: \", likelihood_MLE)\n",
    "print(results.hess_inv.todense())"
   ]
  },
  {
   "cell_type": "markdown",
   "metadata": {},
   "source": [
    "### Part c)"
   ]
  },
  {
   "cell_type": "markdown",
   "metadata": {},
   "source": [
    "First, some basic calculations are done. Given that r=1, equation 4 implies that $z^* = \\log (\\alpha k_t^{\\alpha - 1})$. So given the parameters obtained in parts a and b, we find the probability that $z > z^*$ given that $z_{t-1} = 10$."
   ]
  },
  {
   "cell_type": "code",
   "execution_count": 10,
   "metadata": {},
   "outputs": [
    {
     "name": "stdout",
     "output_type": "stream",
     "text": [
      "The probability that interest rate is greater than one is 0.999999593284641.\n"
     ]
    }
   ],
   "source": [
    "kt = 7500000\n",
    "z_prev = 10\n",
    "mean = rho_MLE * z_prev + (1 - rho_MLE) * mu_MLE\n",
    "var = sigma_MLE\n",
    "z_star = -np.log(alpha_MLE) - (alpha_MLE - 1) * np.log(kt)\n",
    "prob = 1 - sts.norm.cdf(z_star, mean, var)\n",
    "print(\"The probability that interest rate is greater than one is {}.\".format(prob))"
   ]
  }
 ],
 "metadata": {
  "kernelspec": {
   "display_name": "Python 3",
   "language": "python",
   "name": "python3"
  },
  "language_info": {
   "codemirror_mode": {
    "name": "ipython",
    "version": 3
   },
   "file_extension": ".py",
   "mimetype": "text/x-python",
   "name": "python",
   "nbconvert_exporter": "python",
   "pygments_lexer": "ipython3",
   "version": "3.6.1"
  }
 },
 "nbformat": 4,
 "nbformat_minor": 2
}
